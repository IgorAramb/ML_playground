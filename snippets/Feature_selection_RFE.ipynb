{
 "cells": [
  {
   "cell_type": "code",
   "execution_count": 1,
   "metadata": {},
   "outputs": [],
   "source": [
    "import pandas as pd\n",
    "import numpy as np\n",
    "pd.set_option('display.max_columns', None)"
   ]
  },
  {
   "cell_type": "markdown",
   "metadata": {},
   "source": [
    "https://machinelearningmastery.com/feature-selection-in-python-with-scikit-learn/"
   ]
  },
  {
   "cell_type": "code",
   "execution_count": null,
   "metadata": {},
   "outputs": [],
   "source": [
    "from sklearn.feature_selection import RFE\n",
    "#Feature ranking with recursive feature elimination.\n",
    "rfe = RFE(logreg, 25) #25 features is the max\n",
    "rfe_fit = rfe.fit(X_train, y_train.values.ravel())\n",
    "\n",
    "#the ones with position 1 are the top N features where N is the desired number of features put in RFE parameter\n",
    "rfe_fit.ranking_\n",
    "\n",
    "#All top N features are True (25 in this case)\n",
    "rfe_fit.support_\n",
    "\n"
   ]
  },
  {
   "cell_type": "code",
   "execution_count": null,
   "metadata": {},
   "outputs": [],
   "source": [
    "cols=X_train.columns[rfe.support_]\n",
    "X_train_25=X_train[cols]\n",
    "logreg_25 = LogisticRegression(solver='liblinear')\n",
    "logreg_25.fit(X_train_25, y_train.values.ravel())\n",
    "y_pred_25 = logreg_25.predict(X_test[cols])\n",
    "confusion_mat_25 = confusion_matrix(y_test, y_pred_25)\n",
    "print(confusion_mat_25)"
   ]
  }
 ],
 "metadata": {
  "kernelspec": {
   "display_name": "Python 3",
   "language": "python",
   "name": "python3"
  },
  "language_info": {
   "codemirror_mode": {
    "name": "ipython",
    "version": 3
   },
   "file_extension": ".py",
   "mimetype": "text/x-python",
   "name": "python",
   "nbconvert_exporter": "python",
   "pygments_lexer": "ipython3",
   "version": "3.6.8"
  }
 },
 "nbformat": 4,
 "nbformat_minor": 2
}
