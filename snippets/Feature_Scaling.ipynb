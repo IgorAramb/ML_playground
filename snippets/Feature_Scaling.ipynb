{
 "cells": [
  {
   "cell_type": "code",
   "execution_count": 1,
   "metadata": {},
   "outputs": [],
   "source": [
    "import pandas as pd\n",
    "import numpy as np\n",
    "import matplotlib.pyplot as plt\n",
    "pd.set_option('display.max_columns', None)"
   ]
  },
  {
   "cell_type": "code",
   "execution_count": null,
   "metadata": {},
   "outputs": [],
   "source": [
    "#Option 1 --> create new DF an copy columns from original df to the scaled one\n",
    "from sklearn.preprocessing import StandardScaler \n",
    "sc_x = StandardScaler() \n",
    "\n",
    "X = df[['Age', 'EstimatedSalary']].copy()\n",
    "X_sc = sc_x.fit_transform(X)  \n",
    "X_sc=pd.DataFrame(X_sc)\n",
    "#add more columns if necessary from the original DF\n",
    "X_sc_Gen['Gender']=df['Gender']\n",
    "\n"
   ]
  },
  {
   "cell_type": "code",
   "execution_count": null,
   "metadata": {},
   "outputs": [],
   "source": [
    "#Option 2 --> return scaled columns to the original df\n",
    "from sklearn.preprocessing import StandardScaler \n",
    "sc_x = StandardScaler() \n",
    "\n",
    "X_sc = sc_x.fit_transform(df[['Age', 'EstimatedSalary']])  \n",
    "df['Age2'] = X_sc[:,0]\n",
    "df['EstimatedSalary2'] = X_sc[:,1]\n"
   ]
  }
 ],
 "metadata": {
  "kernelspec": {
   "display_name": "Python 3",
   "language": "python",
   "name": "python3"
  },
  "language_info": {
   "codemirror_mode": {
    "name": "ipython",
    "version": 3
   },
   "file_extension": ".py",
   "mimetype": "text/x-python",
   "name": "python",
   "nbconvert_exporter": "python",
   "pygments_lexer": "ipython3",
   "version": "3.6.8"
  }
 },
 "nbformat": 4,
 "nbformat_minor": 2
}
