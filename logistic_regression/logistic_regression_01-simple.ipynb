{
 "cells": [
  {
   "cell_type": "markdown",
   "metadata": {},
   "source": [
    "# Logistic Regression"
   ]
  },
  {
   "cell_type": "markdown",
   "metadata": {},
   "source": [
    "nicely explained:\n",
    "* https://towardsdatascience.com/logistic-regression-python-7c451928efee  \n",
    "\n",
    "example:\n",
    "* https://towardsdatascience.com/building-a-logistic-regression-in-python-step-by-step-becd4d56c9c8"
   ]
  },
  {
   "cell_type": "markdown",
   "metadata": {},
   "source": [
    "__Logistic Regression is a supervised machine learning algorithm used in binary classification__.  \n",
    "Logistic Regression __fits a line to a dataset and then returns the probability__ that a new sample belongs to one of the two classes according to its location with respect to the line."
   ]
  },
  {
   "cell_type": "markdown",
   "metadata": {},
   "source": [
    "### Logistic Regression Assumptions\n",
    "* Binary logistic regression requires the dependent variable to be binary.\n",
    "* For a binary regression, the factor level 1 of the dependent variable should represent the desired outcome.\n",
    "* Only the meaningful variables should be included.\n",
    "* The independent variables should be independent of each other. That is, the model should have little or no multicollinearity.\n",
    "* The independent variables are linearly related to the log odds.\n",
    "* Logistic regression requires quite large sample sizes."
   ]
  },
  {
   "cell_type": "markdown",
   "metadata": {},
   "source": [
    "### Difference between probability and odds. \n",
    "Odds are calculated by taking the number of events where something happened and dividing by the number events where that same something didn’t happen. For example, if the odds of winning a game are 5 to 2, we calculate the ratio as 5/2=2.5. On the other hand, probability is calculated by taking the number of events where something happened and dividing by the total number events (including events when that same something did and didn’t happen). For example, the probability of winning a game with the same odds is 5/(5+2)=0.714."
   ]
  },
  {
   "cell_type": "markdown",
   "metadata": {},
   "source": [
    "The dataset comes from the UCI Machine Learning repository(http://archive.ics.uci.edu/ml/index.php) "
   ]
  },
  {
   "cell_type": "code",
   "execution_count": 1,
   "metadata": {},
   "outputs": [],
   "source": [
    "# ! curl -OL https://raw.githubusercontent.com/madmashup/targeted-marketing-predictive-engine/master/banking.csv"
   ]
  },
  {
   "cell_type": "raw",
   "metadata": {},
   "source": [
    "O means that curl downloads the content\n",
    "L means that curl follows the redirection"
   ]
  },
  {
   "cell_type": "code",
   "execution_count": 2,
   "metadata": {},
   "outputs": [],
   "source": [
    "import pandas as pd\n",
    "pd.set_option('display.max_columns', None)\n",
    "import numpy as np\n",
    "import matplotlib.pyplot as plt \n",
    "plt.rc(\"font\", size=14)\n",
    "\n",
    "import seaborn as sns\n",
    "sns.set(style=\"white\")\n",
    "sns.set(style=\"whitegrid\", color_codes=True)"
   ]
  },
  {
   "cell_type": "markdown",
   "metadata": {},
   "source": [
    "The dataset provides the bank customers’ information. It includes 41,188 records and 21 fields.  \n",
    "It is __related to direct marketing campaigns (phone calls) of a Portuguese banking institution. The classification goal is to predict whether the client will subscribe (1/0) to a term deposit (variable y).__ "
   ]
  },
  {
   "cell_type": "code",
   "execution_count": 4,
   "metadata": {},
   "outputs": [
    {
     "data": {
      "text/plain": [
       "(41188, 21)"
      ]
     },
     "execution_count": 4,
     "metadata": {},
     "output_type": "execute_result"
    }
   ],
   "source": [
    "df=pd.read_csv(\"./banking.csv\")\n",
    "df.shape"
   ]
  },
  {
   "cell_type": "code",
   "execution_count": 5,
   "metadata": {},
   "outputs": [
    {
     "data": {
      "text/html": [
       "<div>\n",
       "<style scoped>\n",
       "    .dataframe tbody tr th:only-of-type {\n",
       "        vertical-align: middle;\n",
       "    }\n",
       "\n",
       "    .dataframe tbody tr th {\n",
       "        vertical-align: top;\n",
       "    }\n",
       "\n",
       "    .dataframe thead th {\n",
       "        text-align: right;\n",
       "    }\n",
       "</style>\n",
       "<table border=\"1\" class=\"dataframe\">\n",
       "  <thead>\n",
       "    <tr style=\"text-align: right;\">\n",
       "      <th></th>\n",
       "      <th>age</th>\n",
       "      <th>duration</th>\n",
       "      <th>campaign</th>\n",
       "      <th>pdays</th>\n",
       "      <th>previous</th>\n",
       "      <th>emp_var_rate</th>\n",
       "      <th>cons_price_idx</th>\n",
       "      <th>cons_conf_idx</th>\n",
       "      <th>euribor3m</th>\n",
       "      <th>nr_employed</th>\n",
       "      <th>y</th>\n",
       "    </tr>\n",
       "  </thead>\n",
       "  <tbody>\n",
       "    <tr>\n",
       "      <th>count</th>\n",
       "      <td>41188.00000</td>\n",
       "      <td>41188.000000</td>\n",
       "      <td>41188.000000</td>\n",
       "      <td>41188.000000</td>\n",
       "      <td>41188.000000</td>\n",
       "      <td>41188.000000</td>\n",
       "      <td>41188.000000</td>\n",
       "      <td>41188.000000</td>\n",
       "      <td>41188.000000</td>\n",
       "      <td>41188.000000</td>\n",
       "      <td>41188.000000</td>\n",
       "    </tr>\n",
       "    <tr>\n",
       "      <th>mean</th>\n",
       "      <td>40.02406</td>\n",
       "      <td>258.285010</td>\n",
       "      <td>2.567593</td>\n",
       "      <td>962.475454</td>\n",
       "      <td>0.172963</td>\n",
       "      <td>0.081886</td>\n",
       "      <td>93.575664</td>\n",
       "      <td>-40.502600</td>\n",
       "      <td>3.621291</td>\n",
       "      <td>5167.035911</td>\n",
       "      <td>0.112654</td>\n",
       "    </tr>\n",
       "    <tr>\n",
       "      <th>std</th>\n",
       "      <td>10.42125</td>\n",
       "      <td>259.279249</td>\n",
       "      <td>2.770014</td>\n",
       "      <td>186.910907</td>\n",
       "      <td>0.494901</td>\n",
       "      <td>1.570960</td>\n",
       "      <td>0.578840</td>\n",
       "      <td>4.628198</td>\n",
       "      <td>1.734447</td>\n",
       "      <td>72.251528</td>\n",
       "      <td>0.316173</td>\n",
       "    </tr>\n",
       "    <tr>\n",
       "      <th>min</th>\n",
       "      <td>17.00000</td>\n",
       "      <td>0.000000</td>\n",
       "      <td>1.000000</td>\n",
       "      <td>0.000000</td>\n",
       "      <td>0.000000</td>\n",
       "      <td>-3.400000</td>\n",
       "      <td>92.201000</td>\n",
       "      <td>-50.800000</td>\n",
       "      <td>0.634000</td>\n",
       "      <td>4963.600000</td>\n",
       "      <td>0.000000</td>\n",
       "    </tr>\n",
       "    <tr>\n",
       "      <th>25%</th>\n",
       "      <td>32.00000</td>\n",
       "      <td>102.000000</td>\n",
       "      <td>1.000000</td>\n",
       "      <td>999.000000</td>\n",
       "      <td>0.000000</td>\n",
       "      <td>-1.800000</td>\n",
       "      <td>93.075000</td>\n",
       "      <td>-42.700000</td>\n",
       "      <td>1.344000</td>\n",
       "      <td>5099.100000</td>\n",
       "      <td>0.000000</td>\n",
       "    </tr>\n",
       "    <tr>\n",
       "      <th>50%</th>\n",
       "      <td>38.00000</td>\n",
       "      <td>180.000000</td>\n",
       "      <td>2.000000</td>\n",
       "      <td>999.000000</td>\n",
       "      <td>0.000000</td>\n",
       "      <td>1.100000</td>\n",
       "      <td>93.749000</td>\n",
       "      <td>-41.800000</td>\n",
       "      <td>4.857000</td>\n",
       "      <td>5191.000000</td>\n",
       "      <td>0.000000</td>\n",
       "    </tr>\n",
       "    <tr>\n",
       "      <th>75%</th>\n",
       "      <td>47.00000</td>\n",
       "      <td>319.000000</td>\n",
       "      <td>3.000000</td>\n",
       "      <td>999.000000</td>\n",
       "      <td>0.000000</td>\n",
       "      <td>1.400000</td>\n",
       "      <td>93.994000</td>\n",
       "      <td>-36.400000</td>\n",
       "      <td>4.961000</td>\n",
       "      <td>5228.100000</td>\n",
       "      <td>0.000000</td>\n",
       "    </tr>\n",
       "    <tr>\n",
       "      <th>max</th>\n",
       "      <td>98.00000</td>\n",
       "      <td>4918.000000</td>\n",
       "      <td>56.000000</td>\n",
       "      <td>999.000000</td>\n",
       "      <td>7.000000</td>\n",
       "      <td>1.400000</td>\n",
       "      <td>94.767000</td>\n",
       "      <td>-26.900000</td>\n",
       "      <td>5.045000</td>\n",
       "      <td>5228.100000</td>\n",
       "      <td>1.000000</td>\n",
       "    </tr>\n",
       "  </tbody>\n",
       "</table>\n",
       "</div>"
      ],
      "text/plain": [
       "               age      duration      campaign         pdays      previous  \\\n",
       "count  41188.00000  41188.000000  41188.000000  41188.000000  41188.000000   \n",
       "mean      40.02406    258.285010      2.567593    962.475454      0.172963   \n",
       "std       10.42125    259.279249      2.770014    186.910907      0.494901   \n",
       "min       17.00000      0.000000      1.000000      0.000000      0.000000   \n",
       "25%       32.00000    102.000000      1.000000    999.000000      0.000000   \n",
       "50%       38.00000    180.000000      2.000000    999.000000      0.000000   \n",
       "75%       47.00000    319.000000      3.000000    999.000000      0.000000   \n",
       "max       98.00000   4918.000000     56.000000    999.000000      7.000000   \n",
       "\n",
       "       emp_var_rate  cons_price_idx  cons_conf_idx     euribor3m  \\\n",
       "count  41188.000000    41188.000000   41188.000000  41188.000000   \n",
       "mean       0.081886       93.575664     -40.502600      3.621291   \n",
       "std        1.570960        0.578840       4.628198      1.734447   \n",
       "min       -3.400000       92.201000     -50.800000      0.634000   \n",
       "25%       -1.800000       93.075000     -42.700000      1.344000   \n",
       "50%        1.100000       93.749000     -41.800000      4.857000   \n",
       "75%        1.400000       93.994000     -36.400000      4.961000   \n",
       "max        1.400000       94.767000     -26.900000      5.045000   \n",
       "\n",
       "        nr_employed             y  \n",
       "count  41188.000000  41188.000000  \n",
       "mean    5167.035911      0.112654  \n",
       "std       72.251528      0.316173  \n",
       "min     4963.600000      0.000000  \n",
       "25%     5099.100000      0.000000  \n",
       "50%     5191.000000      0.000000  \n",
       "75%     5228.100000      0.000000  \n",
       "max     5228.100000      1.000000  "
      ]
     },
     "execution_count": 5,
     "metadata": {},
     "output_type": "execute_result"
    }
   ],
   "source": [
    "df.describe()"
   ]
  },
  {
   "cell_type": "code",
   "execution_count": 6,
   "metadata": {},
   "outputs": [
    {
     "data": {
      "text/html": [
       "<div>\n",
       "<style scoped>\n",
       "    .dataframe tbody tr th:only-of-type {\n",
       "        vertical-align: middle;\n",
       "    }\n",
       "\n",
       "    .dataframe tbody tr th {\n",
       "        vertical-align: top;\n",
       "    }\n",
       "\n",
       "    .dataframe thead th {\n",
       "        text-align: right;\n",
       "    }\n",
       "</style>\n",
       "<table border=\"1\" class=\"dataframe\">\n",
       "  <thead>\n",
       "    <tr style=\"text-align: right;\">\n",
       "      <th></th>\n",
       "      <th>age</th>\n",
       "      <th>job</th>\n",
       "      <th>marital</th>\n",
       "      <th>education</th>\n",
       "      <th>default</th>\n",
       "      <th>housing</th>\n",
       "      <th>loan</th>\n",
       "      <th>contact</th>\n",
       "      <th>month</th>\n",
       "      <th>day_of_week</th>\n",
       "      <th>duration</th>\n",
       "      <th>campaign</th>\n",
       "      <th>pdays</th>\n",
       "      <th>previous</th>\n",
       "      <th>poutcome</th>\n",
       "      <th>emp_var_rate</th>\n",
       "      <th>cons_price_idx</th>\n",
       "      <th>cons_conf_idx</th>\n",
       "      <th>euribor3m</th>\n",
       "      <th>nr_employed</th>\n",
       "      <th>y</th>\n",
       "    </tr>\n",
       "  </thead>\n",
       "  <tbody>\n",
       "    <tr>\n",
       "      <th>20647</th>\n",
       "      <td>47</td>\n",
       "      <td>technician</td>\n",
       "      <td>divorced</td>\n",
       "      <td>high.school</td>\n",
       "      <td>no</td>\n",
       "      <td>no</td>\n",
       "      <td>no</td>\n",
       "      <td>telephone</td>\n",
       "      <td>may</td>\n",
       "      <td>fri</td>\n",
       "      <td>156</td>\n",
       "      <td>5</td>\n",
       "      <td>999</td>\n",
       "      <td>0</td>\n",
       "      <td>nonexistent</td>\n",
       "      <td>1.1</td>\n",
       "      <td>93.994</td>\n",
       "      <td>-36.4</td>\n",
       "      <td>4.864</td>\n",
       "      <td>5191.0</td>\n",
       "      <td>0</td>\n",
       "    </tr>\n",
       "    <tr>\n",
       "      <th>14107</th>\n",
       "      <td>27</td>\n",
       "      <td>student</td>\n",
       "      <td>single</td>\n",
       "      <td>unknown</td>\n",
       "      <td>no</td>\n",
       "      <td>yes</td>\n",
       "      <td>no</td>\n",
       "      <td>cellular</td>\n",
       "      <td>oct</td>\n",
       "      <td>fri</td>\n",
       "      <td>309</td>\n",
       "      <td>2</td>\n",
       "      <td>999</td>\n",
       "      <td>1</td>\n",
       "      <td>failure</td>\n",
       "      <td>-1.1</td>\n",
       "      <td>94.601</td>\n",
       "      <td>-49.5</td>\n",
       "      <td>0.972</td>\n",
       "      <td>4963.6</td>\n",
       "      <td>0</td>\n",
       "    </tr>\n",
       "    <tr>\n",
       "      <th>8831</th>\n",
       "      <td>59</td>\n",
       "      <td>retired</td>\n",
       "      <td>married</td>\n",
       "      <td>basic.9y</td>\n",
       "      <td>no</td>\n",
       "      <td>no</td>\n",
       "      <td>no</td>\n",
       "      <td>cellular</td>\n",
       "      <td>aug</td>\n",
       "      <td>mon</td>\n",
       "      <td>105</td>\n",
       "      <td>9</td>\n",
       "      <td>999</td>\n",
       "      <td>0</td>\n",
       "      <td>nonexistent</td>\n",
       "      <td>1.4</td>\n",
       "      <td>93.444</td>\n",
       "      <td>-36.1</td>\n",
       "      <td>4.965</td>\n",
       "      <td>5228.1</td>\n",
       "      <td>0</td>\n",
       "    </tr>\n",
       "    <tr>\n",
       "      <th>19748</th>\n",
       "      <td>37</td>\n",
       "      <td>blue-collar</td>\n",
       "      <td>divorced</td>\n",
       "      <td>basic.9y</td>\n",
       "      <td>no</td>\n",
       "      <td>yes</td>\n",
       "      <td>no</td>\n",
       "      <td>telephone</td>\n",
       "      <td>may</td>\n",
       "      <td>thu</td>\n",
       "      <td>604</td>\n",
       "      <td>4</td>\n",
       "      <td>999</td>\n",
       "      <td>0</td>\n",
       "      <td>nonexistent</td>\n",
       "      <td>-1.8</td>\n",
       "      <td>92.893</td>\n",
       "      <td>-46.2</td>\n",
       "      <td>1.266</td>\n",
       "      <td>5099.1</td>\n",
       "      <td>1</td>\n",
       "    </tr>\n",
       "    <tr>\n",
       "      <th>5914</th>\n",
       "      <td>47</td>\n",
       "      <td>management</td>\n",
       "      <td>married</td>\n",
       "      <td>basic.4y</td>\n",
       "      <td>unknown</td>\n",
       "      <td>no</td>\n",
       "      <td>no</td>\n",
       "      <td>cellular</td>\n",
       "      <td>nov</td>\n",
       "      <td>wed</td>\n",
       "      <td>57</td>\n",
       "      <td>1</td>\n",
       "      <td>999</td>\n",
       "      <td>0</td>\n",
       "      <td>nonexistent</td>\n",
       "      <td>-0.1</td>\n",
       "      <td>93.200</td>\n",
       "      <td>-42.0</td>\n",
       "      <td>4.120</td>\n",
       "      <td>5195.8</td>\n",
       "      <td>0</td>\n",
       "    </tr>\n",
       "  </tbody>\n",
       "</table>\n",
       "</div>"
      ],
      "text/plain": [
       "       age          job   marital    education  default housing loan  \\\n",
       "20647   47   technician  divorced  high.school       no      no   no   \n",
       "14107   27      student    single      unknown       no     yes   no   \n",
       "8831    59      retired   married     basic.9y       no      no   no   \n",
       "19748   37  blue-collar  divorced     basic.9y       no     yes   no   \n",
       "5914    47   management   married     basic.4y  unknown      no   no   \n",
       "\n",
       "         contact month day_of_week  duration  campaign  pdays  previous  \\\n",
       "20647  telephone   may         fri       156         5    999         0   \n",
       "14107   cellular   oct         fri       309         2    999         1   \n",
       "8831    cellular   aug         mon       105         9    999         0   \n",
       "19748  telephone   may         thu       604         4    999         0   \n",
       "5914    cellular   nov         wed        57         1    999         0   \n",
       "\n",
       "          poutcome  emp_var_rate  cons_price_idx  cons_conf_idx  euribor3m  \\\n",
       "20647  nonexistent           1.1          93.994          -36.4      4.864   \n",
       "14107      failure          -1.1          94.601          -49.5      0.972   \n",
       "8831   nonexistent           1.4          93.444          -36.1      4.965   \n",
       "19748  nonexistent          -1.8          92.893          -46.2      1.266   \n",
       "5914   nonexistent          -0.1          93.200          -42.0      4.120   \n",
       "\n",
       "       nr_employed  y  \n",
       "20647       5191.0  0  \n",
       "14107       4963.6  0  \n",
       "8831        5228.1  0  \n",
       "19748       5099.1  1  \n",
       "5914        5195.8  0  "
      ]
     },
     "execution_count": 6,
     "metadata": {},
     "output_type": "execute_result"
    }
   ],
   "source": [
    "df.sample(5)"
   ]
  },
  {
   "cell_type": "code",
   "execution_count": 7,
   "metadata": {},
   "outputs": [
    {
     "data": {
      "text/plain": [
       "age               41188\n",
       "job               41188\n",
       "marital           41188\n",
       "education         41188\n",
       "default           41188\n",
       "housing           41188\n",
       "loan              41188\n",
       "contact           41188\n",
       "month             41188\n",
       "day_of_week       41188\n",
       "duration          41188\n",
       "campaign          41188\n",
       "pdays             41188\n",
       "previous          41188\n",
       "poutcome          41188\n",
       "emp_var_rate      41188\n",
       "cons_price_idx    41188\n",
       "cons_conf_idx     41188\n",
       "euribor3m         41188\n",
       "nr_employed       41188\n",
       "y                 41188\n",
       "dtype: int64"
      ]
     },
     "execution_count": 7,
     "metadata": {},
     "output_type": "execute_result"
    }
   ],
   "source": [
    "df.count()\n",
    "#df.notnull().sum()"
   ]
  },
  {
   "cell_type": "code",
   "execution_count": 8,
   "metadata": {},
   "outputs": [
    {
     "data": {
      "text/plain": [
       "(8, array(['basic.4y', 'unknown', 'university.degree', 'high.school',\n",
       "        'basic.9y', 'professional.course', 'basic.6y', 'illiterate'],\n",
       "       dtype=object))"
      ]
     },
     "execution_count": 8,
     "metadata": {},
     "output_type": "execute_result"
    }
   ],
   "source": [
    " df[\"education\"].nunique(),df[\"education\"].unique()"
   ]
  },
  {
   "cell_type": "code",
   "execution_count": 9,
   "metadata": {},
   "outputs": [
    {
     "data": {
      "text/plain": [
       "(12, array(['blue-collar', 'technician', 'management', 'services', 'retired',\n",
       "        'admin.', 'housemaid', 'unemployed', 'entrepreneur',\n",
       "        'self-employed', 'unknown', 'student'], dtype=object))"
      ]
     },
     "execution_count": 9,
     "metadata": {},
     "output_type": "execute_result"
    }
   ],
   "source": [
    " df[\"job\"].nunique(),df[\"job\"].unique()"
   ]
  },
  {
   "cell_type": "code",
   "execution_count": 10,
   "metadata": {},
   "outputs": [
    {
     "data": {
      "text/html": [
       "<div>\n",
       "<style scoped>\n",
       "    .dataframe tbody tr th:only-of-type {\n",
       "        vertical-align: middle;\n",
       "    }\n",
       "\n",
       "    .dataframe tbody tr th {\n",
       "        vertical-align: top;\n",
       "    }\n",
       "\n",
       "    .dataframe thead th {\n",
       "        text-align: right;\n",
       "    }\n",
       "</style>\n",
       "<table border=\"1\" class=\"dataframe\">\n",
       "  <thead>\n",
       "    <tr style=\"text-align: right;\">\n",
       "      <th></th>\n",
       "      <th>age</th>\n",
       "      <th>job</th>\n",
       "      <th>marital</th>\n",
       "      <th>education</th>\n",
       "      <th>default</th>\n",
       "      <th>housing</th>\n",
       "      <th>loan</th>\n",
       "      <th>contact</th>\n",
       "      <th>month</th>\n",
       "      <th>day_of_week</th>\n",
       "      <th>duration</th>\n",
       "      <th>campaign</th>\n",
       "      <th>pdays</th>\n",
       "      <th>previous</th>\n",
       "      <th>poutcome</th>\n",
       "      <th>emp_var_rate</th>\n",
       "      <th>cons_price_idx</th>\n",
       "      <th>cons_conf_idx</th>\n",
       "      <th>euribor3m</th>\n",
       "      <th>nr_employed</th>\n",
       "      <th>y</th>\n",
       "    </tr>\n",
       "  </thead>\n",
       "  <tbody>\n",
       "    <tr>\n",
       "      <th>count</th>\n",
       "      <td>41188.00000</td>\n",
       "      <td>41188</td>\n",
       "      <td>41188</td>\n",
       "      <td>41188</td>\n",
       "      <td>41188</td>\n",
       "      <td>41188</td>\n",
       "      <td>41188</td>\n",
       "      <td>41188</td>\n",
       "      <td>41188</td>\n",
       "      <td>41188</td>\n",
       "      <td>41188.000000</td>\n",
       "      <td>41188.000000</td>\n",
       "      <td>41188.000000</td>\n",
       "      <td>41188.000000</td>\n",
       "      <td>41188</td>\n",
       "      <td>41188.000000</td>\n",
       "      <td>41188.000000</td>\n",
       "      <td>41188.000000</td>\n",
       "      <td>41188.000000</td>\n",
       "      <td>41188.000000</td>\n",
       "      <td>41188.000000</td>\n",
       "    </tr>\n",
       "    <tr>\n",
       "      <th>unique</th>\n",
       "      <td>NaN</td>\n",
       "      <td>12</td>\n",
       "      <td>4</td>\n",
       "      <td>8</td>\n",
       "      <td>3</td>\n",
       "      <td>3</td>\n",
       "      <td>3</td>\n",
       "      <td>2</td>\n",
       "      <td>10</td>\n",
       "      <td>5</td>\n",
       "      <td>NaN</td>\n",
       "      <td>NaN</td>\n",
       "      <td>NaN</td>\n",
       "      <td>NaN</td>\n",
       "      <td>3</td>\n",
       "      <td>NaN</td>\n",
       "      <td>NaN</td>\n",
       "      <td>NaN</td>\n",
       "      <td>NaN</td>\n",
       "      <td>NaN</td>\n",
       "      <td>NaN</td>\n",
       "    </tr>\n",
       "    <tr>\n",
       "      <th>top</th>\n",
       "      <td>NaN</td>\n",
       "      <td>admin.</td>\n",
       "      <td>married</td>\n",
       "      <td>university.degree</td>\n",
       "      <td>no</td>\n",
       "      <td>yes</td>\n",
       "      <td>no</td>\n",
       "      <td>cellular</td>\n",
       "      <td>may</td>\n",
       "      <td>thu</td>\n",
       "      <td>NaN</td>\n",
       "      <td>NaN</td>\n",
       "      <td>NaN</td>\n",
       "      <td>NaN</td>\n",
       "      <td>nonexistent</td>\n",
       "      <td>NaN</td>\n",
       "      <td>NaN</td>\n",
       "      <td>NaN</td>\n",
       "      <td>NaN</td>\n",
       "      <td>NaN</td>\n",
       "      <td>NaN</td>\n",
       "    </tr>\n",
       "    <tr>\n",
       "      <th>freq</th>\n",
       "      <td>NaN</td>\n",
       "      <td>10422</td>\n",
       "      <td>24928</td>\n",
       "      <td>12168</td>\n",
       "      <td>32588</td>\n",
       "      <td>21576</td>\n",
       "      <td>33950</td>\n",
       "      <td>26144</td>\n",
       "      <td>13769</td>\n",
       "      <td>8623</td>\n",
       "      <td>NaN</td>\n",
       "      <td>NaN</td>\n",
       "      <td>NaN</td>\n",
       "      <td>NaN</td>\n",
       "      <td>35563</td>\n",
       "      <td>NaN</td>\n",
       "      <td>NaN</td>\n",
       "      <td>NaN</td>\n",
       "      <td>NaN</td>\n",
       "      <td>NaN</td>\n",
       "      <td>NaN</td>\n",
       "    </tr>\n",
       "    <tr>\n",
       "      <th>mean</th>\n",
       "      <td>40.02406</td>\n",
       "      <td>NaN</td>\n",
       "      <td>NaN</td>\n",
       "      <td>NaN</td>\n",
       "      <td>NaN</td>\n",
       "      <td>NaN</td>\n",
       "      <td>NaN</td>\n",
       "      <td>NaN</td>\n",
       "      <td>NaN</td>\n",
       "      <td>NaN</td>\n",
       "      <td>258.285010</td>\n",
       "      <td>2.567593</td>\n",
       "      <td>962.475454</td>\n",
       "      <td>0.172963</td>\n",
       "      <td>NaN</td>\n",
       "      <td>0.081886</td>\n",
       "      <td>93.575664</td>\n",
       "      <td>-40.502600</td>\n",
       "      <td>3.621291</td>\n",
       "      <td>5167.035911</td>\n",
       "      <td>0.112654</td>\n",
       "    </tr>\n",
       "    <tr>\n",
       "      <th>std</th>\n",
       "      <td>10.42125</td>\n",
       "      <td>NaN</td>\n",
       "      <td>NaN</td>\n",
       "      <td>NaN</td>\n",
       "      <td>NaN</td>\n",
       "      <td>NaN</td>\n",
       "      <td>NaN</td>\n",
       "      <td>NaN</td>\n",
       "      <td>NaN</td>\n",
       "      <td>NaN</td>\n",
       "      <td>259.279249</td>\n",
       "      <td>2.770014</td>\n",
       "      <td>186.910907</td>\n",
       "      <td>0.494901</td>\n",
       "      <td>NaN</td>\n",
       "      <td>1.570960</td>\n",
       "      <td>0.578840</td>\n",
       "      <td>4.628198</td>\n",
       "      <td>1.734447</td>\n",
       "      <td>72.251528</td>\n",
       "      <td>0.316173</td>\n",
       "    </tr>\n",
       "    <tr>\n",
       "      <th>min</th>\n",
       "      <td>17.00000</td>\n",
       "      <td>NaN</td>\n",
       "      <td>NaN</td>\n",
       "      <td>NaN</td>\n",
       "      <td>NaN</td>\n",
       "      <td>NaN</td>\n",
       "      <td>NaN</td>\n",
       "      <td>NaN</td>\n",
       "      <td>NaN</td>\n",
       "      <td>NaN</td>\n",
       "      <td>0.000000</td>\n",
       "      <td>1.000000</td>\n",
       "      <td>0.000000</td>\n",
       "      <td>0.000000</td>\n",
       "      <td>NaN</td>\n",
       "      <td>-3.400000</td>\n",
       "      <td>92.201000</td>\n",
       "      <td>-50.800000</td>\n",
       "      <td>0.634000</td>\n",
       "      <td>4963.600000</td>\n",
       "      <td>0.000000</td>\n",
       "    </tr>\n",
       "    <tr>\n",
       "      <th>25%</th>\n",
       "      <td>32.00000</td>\n",
       "      <td>NaN</td>\n",
       "      <td>NaN</td>\n",
       "      <td>NaN</td>\n",
       "      <td>NaN</td>\n",
       "      <td>NaN</td>\n",
       "      <td>NaN</td>\n",
       "      <td>NaN</td>\n",
       "      <td>NaN</td>\n",
       "      <td>NaN</td>\n",
       "      <td>102.000000</td>\n",
       "      <td>1.000000</td>\n",
       "      <td>999.000000</td>\n",
       "      <td>0.000000</td>\n",
       "      <td>NaN</td>\n",
       "      <td>-1.800000</td>\n",
       "      <td>93.075000</td>\n",
       "      <td>-42.700000</td>\n",
       "      <td>1.344000</td>\n",
       "      <td>5099.100000</td>\n",
       "      <td>0.000000</td>\n",
       "    </tr>\n",
       "    <tr>\n",
       "      <th>50%</th>\n",
       "      <td>38.00000</td>\n",
       "      <td>NaN</td>\n",
       "      <td>NaN</td>\n",
       "      <td>NaN</td>\n",
       "      <td>NaN</td>\n",
       "      <td>NaN</td>\n",
       "      <td>NaN</td>\n",
       "      <td>NaN</td>\n",
       "      <td>NaN</td>\n",
       "      <td>NaN</td>\n",
       "      <td>180.000000</td>\n",
       "      <td>2.000000</td>\n",
       "      <td>999.000000</td>\n",
       "      <td>0.000000</td>\n",
       "      <td>NaN</td>\n",
       "      <td>1.100000</td>\n",
       "      <td>93.749000</td>\n",
       "      <td>-41.800000</td>\n",
       "      <td>4.857000</td>\n",
       "      <td>5191.000000</td>\n",
       "      <td>0.000000</td>\n",
       "    </tr>\n",
       "    <tr>\n",
       "      <th>75%</th>\n",
       "      <td>47.00000</td>\n",
       "      <td>NaN</td>\n",
       "      <td>NaN</td>\n",
       "      <td>NaN</td>\n",
       "      <td>NaN</td>\n",
       "      <td>NaN</td>\n",
       "      <td>NaN</td>\n",
       "      <td>NaN</td>\n",
       "      <td>NaN</td>\n",
       "      <td>NaN</td>\n",
       "      <td>319.000000</td>\n",
       "      <td>3.000000</td>\n",
       "      <td>999.000000</td>\n",
       "      <td>0.000000</td>\n",
       "      <td>NaN</td>\n",
       "      <td>1.400000</td>\n",
       "      <td>93.994000</td>\n",
       "      <td>-36.400000</td>\n",
       "      <td>4.961000</td>\n",
       "      <td>5228.100000</td>\n",
       "      <td>0.000000</td>\n",
       "    </tr>\n",
       "    <tr>\n",
       "      <th>max</th>\n",
       "      <td>98.00000</td>\n",
       "      <td>NaN</td>\n",
       "      <td>NaN</td>\n",
       "      <td>NaN</td>\n",
       "      <td>NaN</td>\n",
       "      <td>NaN</td>\n",
       "      <td>NaN</td>\n",
       "      <td>NaN</td>\n",
       "      <td>NaN</td>\n",
       "      <td>NaN</td>\n",
       "      <td>4918.000000</td>\n",
       "      <td>56.000000</td>\n",
       "      <td>999.000000</td>\n",
       "      <td>7.000000</td>\n",
       "      <td>NaN</td>\n",
       "      <td>1.400000</td>\n",
       "      <td>94.767000</td>\n",
       "      <td>-26.900000</td>\n",
       "      <td>5.045000</td>\n",
       "      <td>5228.100000</td>\n",
       "      <td>1.000000</td>\n",
       "    </tr>\n",
       "  </tbody>\n",
       "</table>\n",
       "</div>"
      ],
      "text/plain": [
       "                age     job  marital          education default housing  \\\n",
       "count   41188.00000   41188    41188              41188   41188   41188   \n",
       "unique          NaN      12        4                  8       3       3   \n",
       "top             NaN  admin.  married  university.degree      no     yes   \n",
       "freq            NaN   10422    24928              12168   32588   21576   \n",
       "mean       40.02406     NaN      NaN                NaN     NaN     NaN   \n",
       "std        10.42125     NaN      NaN                NaN     NaN     NaN   \n",
       "min        17.00000     NaN      NaN                NaN     NaN     NaN   \n",
       "25%        32.00000     NaN      NaN                NaN     NaN     NaN   \n",
       "50%        38.00000     NaN      NaN                NaN     NaN     NaN   \n",
       "75%        47.00000     NaN      NaN                NaN     NaN     NaN   \n",
       "max        98.00000     NaN      NaN                NaN     NaN     NaN   \n",
       "\n",
       "         loan   contact  month day_of_week      duration      campaign  \\\n",
       "count   41188     41188  41188       41188  41188.000000  41188.000000   \n",
       "unique      3         2     10           5           NaN           NaN   \n",
       "top        no  cellular    may         thu           NaN           NaN   \n",
       "freq    33950     26144  13769        8623           NaN           NaN   \n",
       "mean      NaN       NaN    NaN         NaN    258.285010      2.567593   \n",
       "std       NaN       NaN    NaN         NaN    259.279249      2.770014   \n",
       "min       NaN       NaN    NaN         NaN      0.000000      1.000000   \n",
       "25%       NaN       NaN    NaN         NaN    102.000000      1.000000   \n",
       "50%       NaN       NaN    NaN         NaN    180.000000      2.000000   \n",
       "75%       NaN       NaN    NaN         NaN    319.000000      3.000000   \n",
       "max       NaN       NaN    NaN         NaN   4918.000000     56.000000   \n",
       "\n",
       "               pdays      previous     poutcome  emp_var_rate  cons_price_idx  \\\n",
       "count   41188.000000  41188.000000        41188  41188.000000    41188.000000   \n",
       "unique           NaN           NaN            3           NaN             NaN   \n",
       "top              NaN           NaN  nonexistent           NaN             NaN   \n",
       "freq             NaN           NaN        35563           NaN             NaN   \n",
       "mean      962.475454      0.172963          NaN      0.081886       93.575664   \n",
       "std       186.910907      0.494901          NaN      1.570960        0.578840   \n",
       "min         0.000000      0.000000          NaN     -3.400000       92.201000   \n",
       "25%       999.000000      0.000000          NaN     -1.800000       93.075000   \n",
       "50%       999.000000      0.000000          NaN      1.100000       93.749000   \n",
       "75%       999.000000      0.000000          NaN      1.400000       93.994000   \n",
       "max       999.000000      7.000000          NaN      1.400000       94.767000   \n",
       "\n",
       "        cons_conf_idx     euribor3m   nr_employed             y  \n",
       "count    41188.000000  41188.000000  41188.000000  41188.000000  \n",
       "unique            NaN           NaN           NaN           NaN  \n",
       "top               NaN           NaN           NaN           NaN  \n",
       "freq              NaN           NaN           NaN           NaN  \n",
       "mean       -40.502600      3.621291   5167.035911      0.112654  \n",
       "std          4.628198      1.734447     72.251528      0.316173  \n",
       "min        -50.800000      0.634000   4963.600000      0.000000  \n",
       "25%        -42.700000      1.344000   5099.100000      0.000000  \n",
       "50%        -41.800000      4.857000   5191.000000      0.000000  \n",
       "75%        -36.400000      4.961000   5228.100000      0.000000  \n",
       "max        -26.900000      5.045000   5228.100000      1.000000  "
      ]
     },
     "execution_count": 10,
     "metadata": {},
     "output_type": "execute_result"
    }
   ],
   "source": [
    "df.describe(include=\"all\")"
   ]
  },
  {
   "cell_type": "code",
   "execution_count": 11,
   "metadata": {},
   "outputs": [
    {
     "data": {
      "text/plain": [
       "(4, array(['married', 'single', 'divorced', 'unknown'], dtype=object))"
      ]
     },
     "execution_count": 11,
     "metadata": {},
     "output_type": "execute_result"
    }
   ],
   "source": [
    " df[\"marital\"].nunique(),df[\"marital\"].unique()"
   ]
  },
  {
   "cell_type": "code",
   "execution_count": 12,
   "metadata": {},
   "outputs": [
    {
     "data": {
      "text/plain": [
       "(41188, 41188)"
      ]
     },
     "execution_count": 12,
     "metadata": {},
     "output_type": "execute_result"
    }
   ],
   "source": [
    "len(df), len(df.dropna())"
   ]
  },
  {
   "cell_type": "markdown",
   "metadata": {},
   "source": [
    "Input variables\n",
    "1. age (numeric)\n",
    "2. job : type of job (categorical: “admin”, “blue-collar”, “entrepreneur”, “housemaid”, “management”, “retired”, “self-employed”, “services”, “student”, “technician”, “unemployed”, “unknown”)\n",
    "3. marital : marital status (categorical: “divorced”, “married”, “single”, “unknown”)\n",
    "4. education (categorical: “basic.4y”, “basic.6y”, “basic.9y”, “high.school”, “illiterate”, “professional.course”, “university.degree”, “unknown”)\n",
    "5. default: has credit in default? (categorical: “no”, “yes”, “unknown”)\n",
    "6. housing: has housing loan? (categorical: “no”, “yes”, “unknown”)\n",
    "7. loan: has personal loan? (categorical: “no”, “yes”, “unknown”)\n",
    "7. contact: contact communication type (categorical: “cellular”, “telephone”)\n",
    "8. month: last contact month of year (categorical: “jan”, “feb”, “mar”, …, “nov”, “dec”)\n",
    "9. day_of_week: last contact day of the week (categorical: “mon”, “tue”, “wed”, “thu”, “fri”)\n",
    "10. duration: last contact duration, in seconds (numeric). Important note: this attribute highly affects the output target (e.g., if duration=0 then y=’no’). The duration is not known before a call is performed, also, after the end of the call, y is obviously known. Thus, this input should only be included for benchmark purposes and should be discarded if the intention is to have a realistic predictive model\n",
    "11. campaign: number of contacts performed during this campaign and for this client (numeric, includes last contact)\n",
    "12. pdays: number of days that passed by after the client was last contacted from a previous campaign (numeric; 999 means client was not previously contacted)\n",
    "13. previous: number of contacts performed before this campaign and for this client (numeric)\n",
    "14. poutcome: outcome of the previous marketing campaign (categorical: “failure”, “nonexistent”, “success”)\n",
    "15. emp.var.rate: employment variation rate — (numeric)\n",
    "16. cons.price.idx: consumer price index — (numeric)\n",
    "17. cons.conf.idx: consumer confidence index — (numeric)\n",
    "18. euribor3m: euribor 3 month rate — (numeric)\n",
    "19. nr.employed: number of employees — (numeric)"
   ]
  },
  {
   "cell_type": "markdown",
   "metadata": {},
   "source": [
    "__The education column of the dataset has many categories and we need to reduce the categories for a better modelling.__"
   ]
  },
  {
   "cell_type": "code",
   "execution_count": 13,
   "metadata": {},
   "outputs": [
    {
     "data": {
      "text/plain": [
       "(8, array(['basic.4y', 'unknown', 'university.degree', 'high.school',\n",
       "        'basic.9y', 'professional.course', 'basic.6y', 'illiterate'],\n",
       "       dtype=object))"
      ]
     },
     "execution_count": 13,
     "metadata": {},
     "output_type": "execute_result"
    }
   ],
   "source": [
    " df[\"education\"].nunique(),df[\"education\"].unique()"
   ]
  },
  {
   "cell_type": "raw",
   "metadata": {},
   "source": [
    "Group “basic.4y”, “basic.9y” and “basic.6y” together and call them “basic”."
   ]
  },
  {
   "cell_type": "code",
   "execution_count": 14,
   "metadata": {},
   "outputs": [],
   "source": [
    "df['education']=np.where(df['education'] =='basic.9y', 'Basic', df['education'])\n",
    "df['education']=np.where(df['education'] =='basic.6y', 'Basic', df['education'])\n",
    "df['education']=np.where(df['education'] =='basic.4y', 'Basic', df['education'])"
   ]
  },
  {
   "cell_type": "code",
   "execution_count": 15,
   "metadata": {},
   "outputs": [
    {
     "data": {
      "text/plain": [
       "(6, array(['Basic', 'unknown', 'university.degree', 'high.school',\n",
       "        'professional.course', 'illiterate'], dtype=object))"
      ]
     },
     "execution_count": 15,
     "metadata": {},
     "output_type": "execute_result"
    }
   ],
   "source": [
    " df[\"education\"].nunique(),df[\"education\"].unique()"
   ]
  },
  {
   "cell_type": "code",
   "execution_count": 16,
   "metadata": {},
   "outputs": [
    {
     "data": {
      "text/plain": [
       "Basic                  12513\n",
       "university.degree      12168\n",
       "high.school             9515\n",
       "professional.course     5243\n",
       "unknown                 1731\n",
       "illiterate                18\n",
       "Name: education, dtype: int64"
      ]
     },
     "execution_count": 16,
     "metadata": {},
     "output_type": "execute_result"
    }
   ],
   "source": [
    "df['education'].value_counts()"
   ]
  },
  {
   "cell_type": "code",
   "execution_count": 17,
   "metadata": {},
   "outputs": [
    {
     "data": {
      "text/plain": [
       "0    36548\n",
       "1     4640\n",
       "Name: y, dtype: int64"
      ]
     },
     "execution_count": 17,
     "metadata": {},
     "output_type": "execute_result"
    }
   ],
   "source": [
    "df['y'].value_counts()"
   ]
  },
  {
   "cell_type": "code",
   "execution_count": 18,
   "metadata": {},
   "outputs": [
    {
     "data": {
      "text/plain": [
       "<matplotlib.axes._subplots.AxesSubplot at 0x1163afeb8>"
      ]
     },
     "execution_count": 18,
     "metadata": {},
     "output_type": "execute_result"
    },
    {
     "data": {
      "image/png": "[encoded data removed]",
      "text/plain": [
       "<Figure size 432x288 with 1 Axes>"
      ]
     },
     "metadata": {
      "needs_background": "light"
     },
     "output_type": "display_data"
    }
   ],
   "source": [
    "sns.countplot(x='y', data=df)"
   ]
  },
  {
   "cell_type": "code",
   "execution_count": 19,
   "metadata": {},
   "outputs": [
    {
     "name": "stdout",
     "output_type": "stream",
     "text": [
      "percentage of no subscription is 88.73458288821988\n",
      "percentage of subscription 11.265417111780131\n"
     ]
    }
   ],
   "source": [
    "count_no_sub = len(df[df['y']==0])\n",
    "count_sub = len(df[df['y']==1])\n",
    "pct_of_no_sub = count_no_sub/(count_no_sub+count_sub)\n",
    "print(\"percentage of no subscription is\", pct_of_no_sub*100)\n",
    "pct_of_sub = count_sub/(count_no_sub+count_sub)\n",
    "print(\"percentage of subscription\", pct_of_sub*100)"
   ]
  },
  {
   "cell_type": "markdown",
   "metadata": {},
   "source": [
    "__Our classes are imbalanced__, and the ratio of no-subscription to subscription instances is 89:11.  \n",
    "Before we go ahead to balance the classes, let’s do some more exploration."
   ]
  },
  {
   "cell_type": "code",
   "execution_count": 20,
   "metadata": {},
   "outputs": [
    {
     "data": {
      "text/html": [
       "<div>\n",
       "<style scoped>\n",
       "    .dataframe tbody tr th:only-of-type {\n",
       "        vertical-align: middle;\n",
       "    }\n",
       "\n",
       "    .dataframe tbody tr th {\n",
       "        vertical-align: top;\n",
       "    }\n",
       "\n",
       "    .dataframe thead th {\n",
       "        text-align: right;\n",
       "    }\n",
       "</style>\n",
       "<table border=\"1\" class=\"dataframe\">\n",
       "  <thead>\n",
       "    <tr style=\"text-align: right;\">\n",
       "      <th></th>\n",
       "      <th>age</th>\n",
       "      <th>duration</th>\n",
       "      <th>campaign</th>\n",
       "      <th>pdays</th>\n",
       "      <th>previous</th>\n",
       "      <th>emp_var_rate</th>\n",
       "      <th>cons_price_idx</th>\n",
       "      <th>cons_conf_idx</th>\n",
       "      <th>euribor3m</th>\n",
       "      <th>nr_employed</th>\n",
       "    </tr>\n",
       "    <tr>\n",
       "      <th>y</th>\n",
       "      <th></th>\n",
       "      <th></th>\n",
       "      <th></th>\n",
       "      <th></th>\n",
       "      <th></th>\n",
       "      <th></th>\n",
       "      <th></th>\n",
       "      <th></th>\n",
       "      <th></th>\n",
       "      <th></th>\n",
       "    </tr>\n",
       "  </thead>\n",
       "  <tbody>\n",
       "    <tr>\n",
       "      <th>0</th>\n",
       "      <td>39.911185</td>\n",
       "      <td>220.844807</td>\n",
       "      <td>2.633085</td>\n",
       "      <td>984.113878</td>\n",
       "      <td>0.132374</td>\n",
       "      <td>0.248875</td>\n",
       "      <td>93.603757</td>\n",
       "      <td>-40.593097</td>\n",
       "      <td>3.811491</td>\n",
       "      <td>5176.166600</td>\n",
       "    </tr>\n",
       "    <tr>\n",
       "      <th>1</th>\n",
       "      <td>40.913147</td>\n",
       "      <td>553.191164</td>\n",
       "      <td>2.051724</td>\n",
       "      <td>792.035560</td>\n",
       "      <td>0.492672</td>\n",
       "      <td>-1.233448</td>\n",
       "      <td>93.354386</td>\n",
       "      <td>-39.789784</td>\n",
       "      <td>2.123135</td>\n",
       "      <td>5095.115991</td>\n",
       "    </tr>\n",
       "  </tbody>\n",
       "</table>\n",
       "</div>"
      ],
      "text/plain": [
       "         age    duration  campaign       pdays  previous  emp_var_rate  \\\n",
       "y                                                                        \n",
       "0  39.911185  220.844807  2.633085  984.113878  0.132374      0.248875   \n",
       "1  40.913147  553.191164  2.051724  792.035560  0.492672     -1.233448   \n",
       "\n",
       "   cons_price_idx  cons_conf_idx  euribor3m  nr_employed  \n",
       "y                                                         \n",
       "0       93.603757     -40.593097   3.811491  5176.166600  \n",
       "1       93.354386     -39.789784   2.123135  5095.115991  "
      ]
     },
     "execution_count": 20,
     "metadata": {},
     "output_type": "execute_result"
    }
   ],
   "source": [
    "df.groupby('y').mean()"
   ]
  },
  {
   "cell_type": "markdown",
   "metadata": {},
   "source": [
    "Observations:\n",
    "* The average age of customers who bought the term deposit is higher than that of the customers who didn’t.\n",
    "* The pdays (days since the customer was last contacted) is understandably lower for the customers who bought it. The lower the pdays, the better the memory of the last call and hence the better chances of a sale.\n",
    "* Surprisingly, campaigns (number of contacts or calls made during the current campaign) are lower for customers who bought the term deposit."
   ]
  },
  {
   "cell_type": "markdown",
   "metadata": {},
   "source": [
    "#### We can calculate categorical means for other categorical variables such as education and marital status to get a more detailed sense of our data."
   ]
  },
  {
   "cell_type": "code",
   "execution_count": 21,
   "metadata": {},
   "outputs": [
    {
     "data": {
      "text/html": [
       "<div>\n",
       "<style scoped>\n",
       "    .dataframe tbody tr th:only-of-type {\n",
       "        vertical-align: middle;\n",
       "    }\n",
       "\n",
       "    .dataframe tbody tr th {\n",
       "        vertical-align: top;\n",
       "    }\n",
       "\n",
       "    .dataframe thead th {\n",
       "        text-align: right;\n",
       "    }\n",
       "</style>\n",
       "<table border=\"1\" class=\"dataframe\">\n",
       "  <thead>\n",
       "    <tr style=\"text-align: right;\">\n",
       "      <th></th>\n",
       "      <th>age</th>\n",
       "      <th>duration</th>\n",
       "      <th>campaign</th>\n",
       "      <th>pdays</th>\n",
       "      <th>previous</th>\n",
       "      <th>emp_var_rate</th>\n",
       "      <th>cons_price_idx</th>\n",
       "      <th>cons_conf_idx</th>\n",
       "      <th>euribor3m</th>\n",
       "      <th>nr_employed</th>\n",
       "      <th>y</th>\n",
       "    </tr>\n",
       "    <tr>\n",
       "      <th>job</th>\n",
       "      <th></th>\n",
       "      <th></th>\n",
       "      <th></th>\n",
       "      <th></th>\n",
       "      <th></th>\n",
       "      <th></th>\n",
       "      <th></th>\n",
       "      <th></th>\n",
       "      <th></th>\n",
       "      <th></th>\n",
       "      <th></th>\n",
       "    </tr>\n",
       "  </thead>\n",
       "  <tbody>\n",
       "    <tr>\n",
       "      <th>admin.</th>\n",
       "      <td>38.187296</td>\n",
       "      <td>254.312128</td>\n",
       "      <td>2.623489</td>\n",
       "      <td>954.319229</td>\n",
       "      <td>0.189023</td>\n",
       "      <td>0.015563</td>\n",
       "      <td>93.534054</td>\n",
       "      <td>-40.245433</td>\n",
       "      <td>3.550274</td>\n",
       "      <td>5164.125350</td>\n",
       "      <td>0.129726</td>\n",
       "    </tr>\n",
       "    <tr>\n",
       "      <th>blue-collar</th>\n",
       "      <td>39.555760</td>\n",
       "      <td>264.542360</td>\n",
       "      <td>2.558461</td>\n",
       "      <td>985.160363</td>\n",
       "      <td>0.122542</td>\n",
       "      <td>0.248995</td>\n",
       "      <td>93.656656</td>\n",
       "      <td>-41.375816</td>\n",
       "      <td>3.771996</td>\n",
       "      <td>5175.615150</td>\n",
       "      <td>0.068943</td>\n",
       "    </tr>\n",
       "    <tr>\n",
       "      <th>entrepreneur</th>\n",
       "      <td>41.723214</td>\n",
       "      <td>263.267857</td>\n",
       "      <td>2.535714</td>\n",
       "      <td>981.267170</td>\n",
       "      <td>0.138736</td>\n",
       "      <td>0.158723</td>\n",
       "      <td>93.605372</td>\n",
       "      <td>-41.283654</td>\n",
       "      <td>3.791120</td>\n",
       "      <td>5176.313530</td>\n",
       "      <td>0.085165</td>\n",
       "    </tr>\n",
       "    <tr>\n",
       "      <th>housemaid</th>\n",
       "      <td>45.500000</td>\n",
       "      <td>250.454717</td>\n",
       "      <td>2.639623</td>\n",
       "      <td>960.579245</td>\n",
       "      <td>0.137736</td>\n",
       "      <td>0.433396</td>\n",
       "      <td>93.676576</td>\n",
       "      <td>-39.495283</td>\n",
       "      <td>4.009645</td>\n",
       "      <td>5179.529623</td>\n",
       "      <td>0.100000</td>\n",
       "    </tr>\n",
       "    <tr>\n",
       "      <th>management</th>\n",
       "      <td>42.362859</td>\n",
       "      <td>257.058140</td>\n",
       "      <td>2.476060</td>\n",
       "      <td>962.647059</td>\n",
       "      <td>0.185021</td>\n",
       "      <td>-0.012688</td>\n",
       "      <td>93.522755</td>\n",
       "      <td>-40.489466</td>\n",
       "      <td>3.611316</td>\n",
       "      <td>5166.650513</td>\n",
       "      <td>0.112175</td>\n",
       "    </tr>\n",
       "    <tr>\n",
       "      <th>retired</th>\n",
       "      <td>62.027326</td>\n",
       "      <td>273.712209</td>\n",
       "      <td>2.476744</td>\n",
       "      <td>897.936047</td>\n",
       "      <td>0.327326</td>\n",
       "      <td>-0.698314</td>\n",
       "      <td>93.430786</td>\n",
       "      <td>-38.573081</td>\n",
       "      <td>2.770066</td>\n",
       "      <td>5122.262151</td>\n",
       "      <td>0.252326</td>\n",
       "    </tr>\n",
       "    <tr>\n",
       "      <th>self-employed</th>\n",
       "      <td>39.949331</td>\n",
       "      <td>264.142153</td>\n",
       "      <td>2.660802</td>\n",
       "      <td>976.621393</td>\n",
       "      <td>0.143561</td>\n",
       "      <td>0.094159</td>\n",
       "      <td>93.559982</td>\n",
       "      <td>-40.488107</td>\n",
       "      <td>3.689376</td>\n",
       "      <td>5170.674384</td>\n",
       "      <td>0.104856</td>\n",
       "    </tr>\n",
       "    <tr>\n",
       "      <th>services</th>\n",
       "      <td>37.926430</td>\n",
       "      <td>258.398085</td>\n",
       "      <td>2.587805</td>\n",
       "      <td>979.974049</td>\n",
       "      <td>0.154951</td>\n",
       "      <td>0.175359</td>\n",
       "      <td>93.634659</td>\n",
       "      <td>-41.290048</td>\n",
       "      <td>3.699187</td>\n",
       "      <td>5171.600126</td>\n",
       "      <td>0.081381</td>\n",
       "    </tr>\n",
       "    <tr>\n",
       "      <th>student</th>\n",
       "      <td>25.894857</td>\n",
       "      <td>283.683429</td>\n",
       "      <td>2.104000</td>\n",
       "      <td>840.217143</td>\n",
       "      <td>0.524571</td>\n",
       "      <td>-1.408000</td>\n",
       "      <td>93.331613</td>\n",
       "      <td>-40.187543</td>\n",
       "      <td>1.884224</td>\n",
       "      <td>5085.939086</td>\n",
       "      <td>0.314286</td>\n",
       "    </tr>\n",
       "    <tr>\n",
       "      <th>technician</th>\n",
       "      <td>38.507638</td>\n",
       "      <td>250.232241</td>\n",
       "      <td>2.577339</td>\n",
       "      <td>964.408127</td>\n",
       "      <td>0.153789</td>\n",
       "      <td>0.274566</td>\n",
       "      <td>93.561471</td>\n",
       "      <td>-39.927569</td>\n",
       "      <td>3.820401</td>\n",
       "      <td>5175.648391</td>\n",
       "      <td>0.108260</td>\n",
       "    </tr>\n",
       "    <tr>\n",
       "      <th>unemployed</th>\n",
       "      <td>39.733728</td>\n",
       "      <td>249.451677</td>\n",
       "      <td>2.564103</td>\n",
       "      <td>935.316568</td>\n",
       "      <td>0.199211</td>\n",
       "      <td>-0.111736</td>\n",
       "      <td>93.563781</td>\n",
       "      <td>-40.007594</td>\n",
       "      <td>3.466583</td>\n",
       "      <td>5157.156509</td>\n",
       "      <td>0.142012</td>\n",
       "    </tr>\n",
       "    <tr>\n",
       "      <th>unknown</th>\n",
       "      <td>45.563636</td>\n",
       "      <td>239.675758</td>\n",
       "      <td>2.648485</td>\n",
       "      <td>938.727273</td>\n",
       "      <td>0.154545</td>\n",
       "      <td>0.357879</td>\n",
       "      <td>93.718942</td>\n",
       "      <td>-38.797879</td>\n",
       "      <td>3.949033</td>\n",
       "      <td>5172.931818</td>\n",
       "      <td>0.112121</td>\n",
       "    </tr>\n",
       "  </tbody>\n",
       "</table>\n",
       "</div>"
      ],
      "text/plain": [
       "                     age    duration  campaign       pdays  previous  \\\n",
       "job                                                                    \n",
       "admin.         38.187296  254.312128  2.623489  954.319229  0.189023   \n",
       "blue-collar    39.555760  264.542360  2.558461  985.160363  0.122542   \n",
       "entrepreneur   41.723214  263.267857  2.535714  981.267170  0.138736   \n",
       "housemaid      45.500000  250.454717  2.639623  960.579245  0.137736   \n",
       "management     42.362859  257.058140  2.476060  962.647059  0.185021   \n",
       "retired        62.027326  273.712209  2.476744  897.936047  0.327326   \n",
       "self-employed  39.949331  264.142153  2.660802  976.621393  0.143561   \n",
       "services       37.926430  258.398085  2.587805  979.974049  0.154951   \n",
       "student        25.894857  283.683429  2.104000  840.217143  0.524571   \n",
       "technician     38.507638  250.232241  2.577339  964.408127  0.153789   \n",
       "unemployed     39.733728  249.451677  2.564103  935.316568  0.199211   \n",
       "unknown        45.563636  239.675758  2.648485  938.727273  0.154545   \n",
       "\n",
       "               emp_var_rate  cons_price_idx  cons_conf_idx  euribor3m  \\\n",
       "job                                                                     \n",
       "admin.             0.015563       93.534054     -40.245433   3.550274   \n",
       "blue-collar        0.248995       93.656656     -41.375816   3.771996   \n",
       "entrepreneur       0.158723       93.605372     -41.283654   3.791120   \n",
       "housemaid          0.433396       93.676576     -39.495283   4.009645   \n",
       "management        -0.012688       93.522755     -40.489466   3.611316   \n",
       "retired           -0.698314       93.430786     -38.573081   2.770066   \n",
       "self-employed      0.094159       93.559982     -40.488107   3.689376   \n",
       "services           0.175359       93.634659     -41.290048   3.699187   \n",
       "student           -1.408000       93.331613     -40.187543   1.884224   \n",
       "technician         0.274566       93.561471     -39.927569   3.820401   \n",
       "unemployed        -0.111736       93.563781     -40.007594   3.466583   \n",
       "unknown            0.357879       93.718942     -38.797879   3.949033   \n",
       "\n",
       "               nr_employed         y  \n",
       "job                                   \n",
       "admin.         5164.125350  0.129726  \n",
       "blue-collar    5175.615150  0.068943  \n",
       "entrepreneur   5176.313530  0.085165  \n",
       "housemaid      5179.529623  0.100000  \n",
       "management     5166.650513  0.112175  \n",
       "retired        5122.262151  0.252326  \n",
       "self-employed  5170.674384  0.104856  \n",
       "services       5171.600126  0.081381  \n",
       "student        5085.939086  0.314286  \n",
       "technician     5175.648391  0.108260  \n",
       "unemployed     5157.156509  0.142012  \n",
       "unknown        5172.931818  0.112121  "
      ]
     },
     "execution_count": 21,
     "metadata": {},
     "output_type": "execute_result"
    }
   ],
   "source": [
    "df.groupby('job').mean()"
   ]
  },
  {
   "cell_type": "code",
   "execution_count": 22,
   "metadata": {},
   "outputs": [
    {
     "data": {
      "text/html": [
       "<div>\n",
       "<style scoped>\n",
       "    .dataframe tbody tr th:only-of-type {\n",
       "        vertical-align: middle;\n",
       "    }\n",
       "\n",
       "    .dataframe tbody tr th {\n",
       "        vertical-align: top;\n",
       "    }\n",
       "\n",
       "    .dataframe thead th {\n",
       "        text-align: right;\n",
       "    }\n",
       "</style>\n",
       "<table border=\"1\" class=\"dataframe\">\n",
       "  <thead>\n",
       "    <tr style=\"text-align: right;\">\n",
       "      <th></th>\n",
       "      <th>age</th>\n",
       "      <th>duration</th>\n",
       "      <th>campaign</th>\n",
       "      <th>pdays</th>\n",
       "      <th>previous</th>\n",
       "      <th>emp_var_rate</th>\n",
       "      <th>cons_price_idx</th>\n",
       "      <th>cons_conf_idx</th>\n",
       "      <th>euribor3m</th>\n",
       "      <th>nr_employed</th>\n",
       "      <th>y</th>\n",
       "    </tr>\n",
       "    <tr>\n",
       "      <th>marital</th>\n",
       "      <th></th>\n",
       "      <th></th>\n",
       "      <th></th>\n",
       "      <th></th>\n",
       "      <th></th>\n",
       "      <th></th>\n",
       "      <th></th>\n",
       "      <th></th>\n",
       "      <th></th>\n",
       "      <th></th>\n",
       "      <th></th>\n",
       "    </tr>\n",
       "  </thead>\n",
       "  <tbody>\n",
       "    <tr>\n",
       "      <th>divorced</th>\n",
       "      <td>44.899393</td>\n",
       "      <td>253.790330</td>\n",
       "      <td>2.61340</td>\n",
       "      <td>968.639853</td>\n",
       "      <td>0.168690</td>\n",
       "      <td>0.163985</td>\n",
       "      <td>93.606563</td>\n",
       "      <td>-40.707069</td>\n",
       "      <td>3.715603</td>\n",
       "      <td>5170.878643</td>\n",
       "      <td>0.103209</td>\n",
       "    </tr>\n",
       "    <tr>\n",
       "      <th>married</th>\n",
       "      <td>42.307165</td>\n",
       "      <td>257.438623</td>\n",
       "      <td>2.57281</td>\n",
       "      <td>967.247673</td>\n",
       "      <td>0.155608</td>\n",
       "      <td>0.183625</td>\n",
       "      <td>93.597367</td>\n",
       "      <td>-40.270659</td>\n",
       "      <td>3.745832</td>\n",
       "      <td>5171.848772</td>\n",
       "      <td>0.101573</td>\n",
       "    </tr>\n",
       "    <tr>\n",
       "      <th>single</th>\n",
       "      <td>33.158714</td>\n",
       "      <td>261.524378</td>\n",
       "      <td>2.53380</td>\n",
       "      <td>949.909578</td>\n",
       "      <td>0.211359</td>\n",
       "      <td>-0.167989</td>\n",
       "      <td>93.517300</td>\n",
       "      <td>-40.918698</td>\n",
       "      <td>3.317447</td>\n",
       "      <td>5155.199265</td>\n",
       "      <td>0.140041</td>\n",
       "    </tr>\n",
       "    <tr>\n",
       "      <th>unknown</th>\n",
       "      <td>40.275000</td>\n",
       "      <td>312.725000</td>\n",
       "      <td>3.18750</td>\n",
       "      <td>937.100000</td>\n",
       "      <td>0.275000</td>\n",
       "      <td>-0.221250</td>\n",
       "      <td>93.471250</td>\n",
       "      <td>-40.820000</td>\n",
       "      <td>3.313038</td>\n",
       "      <td>5157.393750</td>\n",
       "      <td>0.150000</td>\n",
       "    </tr>\n",
       "  </tbody>\n",
       "</table>\n",
       "</div>"
      ],
      "text/plain": [
       "                age    duration  campaign       pdays  previous  emp_var_rate  \\\n",
       "marital                                                                         \n",
       "divorced  44.899393  253.790330   2.61340  968.639853  0.168690      0.163985   \n",
       "married   42.307165  257.438623   2.57281  967.247673  0.155608      0.183625   \n",
       "single    33.158714  261.524378   2.53380  949.909578  0.211359     -0.167989   \n",
       "unknown   40.275000  312.725000   3.18750  937.100000  0.275000     -0.221250   \n",
       "\n",
       "          cons_price_idx  cons_conf_idx  euribor3m  nr_employed         y  \n",
       "marital                                                                    \n",
       "divorced       93.606563     -40.707069   3.715603  5170.878643  0.103209  \n",
       "married        93.597367     -40.270659   3.745832  5171.848772  0.101573  \n",
       "single         93.517300     -40.918698   3.317447  5155.199265  0.140041  \n",
       "unknown        93.471250     -40.820000   3.313038  5157.393750  0.150000  "
      ]
     },
     "execution_count": 22,
     "metadata": {},
     "output_type": "execute_result"
    }
   ],
   "source": [
    "df.groupby('marital').mean()"
   ]
  },
  {
   "cell_type": "code",
   "execution_count": 23,
   "metadata": {},
   "outputs": [
    {
     "data": {
      "text/html": [
       "<div>\n",
       "<style scoped>\n",
       "    .dataframe tbody tr th:only-of-type {\n",
       "        vertical-align: middle;\n",
       "    }\n",
       "\n",
       "    .dataframe tbody tr th {\n",
       "        vertical-align: top;\n",
       "    }\n",
       "\n",
       "    .dataframe thead th {\n",
       "        text-align: right;\n",
       "    }\n",
       "</style>\n",
       "<table border=\"1\" class=\"dataframe\">\n",
       "  <thead>\n",
       "    <tr style=\"text-align: right;\">\n",
       "      <th></th>\n",
       "      <th>age</th>\n",
       "      <th>duration</th>\n",
       "      <th>campaign</th>\n",
       "      <th>pdays</th>\n",
       "      <th>previous</th>\n",
       "      <th>emp_var_rate</th>\n",
       "      <th>cons_price_idx</th>\n",
       "      <th>cons_conf_idx</th>\n",
       "      <th>euribor3m</th>\n",
       "      <th>nr_employed</th>\n",
       "      <th>y</th>\n",
       "    </tr>\n",
       "    <tr>\n",
       "      <th>education</th>\n",
       "      <th></th>\n",
       "      <th></th>\n",
       "      <th></th>\n",
       "      <th></th>\n",
       "      <th></th>\n",
       "      <th></th>\n",
       "      <th></th>\n",
       "      <th></th>\n",
       "      <th></th>\n",
       "      <th></th>\n",
       "      <th></th>\n",
       "    </tr>\n",
       "  </thead>\n",
       "  <tbody>\n",
       "    <tr>\n",
       "      <th>Basic</th>\n",
       "      <td>42.163910</td>\n",
       "      <td>263.043874</td>\n",
       "      <td>2.559498</td>\n",
       "      <td>974.877967</td>\n",
       "      <td>0.141053</td>\n",
       "      <td>0.191329</td>\n",
       "      <td>93.639933</td>\n",
       "      <td>-40.927595</td>\n",
       "      <td>3.729654</td>\n",
       "      <td>5172.014113</td>\n",
       "      <td>0.087029</td>\n",
       "    </tr>\n",
       "    <tr>\n",
       "      <th>high.school</th>\n",
       "      <td>37.998213</td>\n",
       "      <td>260.886810</td>\n",
       "      <td>2.568576</td>\n",
       "      <td>964.358382</td>\n",
       "      <td>0.185917</td>\n",
       "      <td>0.032937</td>\n",
       "      <td>93.584857</td>\n",
       "      <td>-40.940641</td>\n",
       "      <td>3.556157</td>\n",
       "      <td>5164.994735</td>\n",
       "      <td>0.108355</td>\n",
       "    </tr>\n",
       "    <tr>\n",
       "      <th>illiterate</th>\n",
       "      <td>48.500000</td>\n",
       "      <td>276.777778</td>\n",
       "      <td>2.277778</td>\n",
       "      <td>943.833333</td>\n",
       "      <td>0.111111</td>\n",
       "      <td>-0.133333</td>\n",
       "      <td>93.317333</td>\n",
       "      <td>-39.950000</td>\n",
       "      <td>3.516556</td>\n",
       "      <td>5171.777778</td>\n",
       "      <td>0.222222</td>\n",
       "    </tr>\n",
       "    <tr>\n",
       "      <th>professional.course</th>\n",
       "      <td>40.080107</td>\n",
       "      <td>252.533855</td>\n",
       "      <td>2.586115</td>\n",
       "      <td>960.765974</td>\n",
       "      <td>0.163075</td>\n",
       "      <td>0.173012</td>\n",
       "      <td>93.569864</td>\n",
       "      <td>-40.124108</td>\n",
       "      <td>3.710457</td>\n",
       "      <td>5170.155979</td>\n",
       "      <td>0.113485</td>\n",
       "    </tr>\n",
       "    <tr>\n",
       "      <th>university.degree</th>\n",
       "      <td>38.879191</td>\n",
       "      <td>253.223373</td>\n",
       "      <td>2.563527</td>\n",
       "      <td>951.807692</td>\n",
       "      <td>0.192390</td>\n",
       "      <td>-0.028090</td>\n",
       "      <td>93.493466</td>\n",
       "      <td>-39.975805</td>\n",
       "      <td>3.529663</td>\n",
       "      <td>5163.226298</td>\n",
       "      <td>0.137245</td>\n",
       "    </tr>\n",
       "    <tr>\n",
       "      <th>unknown</th>\n",
       "      <td>43.481225</td>\n",
       "      <td>262.390526</td>\n",
       "      <td>2.596187</td>\n",
       "      <td>942.830734</td>\n",
       "      <td>0.226459</td>\n",
       "      <td>0.059099</td>\n",
       "      <td>93.658615</td>\n",
       "      <td>-39.877816</td>\n",
       "      <td>3.571098</td>\n",
       "      <td>5159.549509</td>\n",
       "      <td>0.145003</td>\n",
       "    </tr>\n",
       "  </tbody>\n",
       "</table>\n",
       "</div>"
      ],
      "text/plain": [
       "                           age    duration  campaign       pdays  previous  \\\n",
       "education                                                                    \n",
       "Basic                42.163910  263.043874  2.559498  974.877967  0.141053   \n",
       "high.school          37.998213  260.886810  2.568576  964.358382  0.185917   \n",
       "illiterate           48.500000  276.777778  2.277778  943.833333  0.111111   \n",
       "professional.course  40.080107  252.533855  2.586115  960.765974  0.163075   \n",
       "university.degree    38.879191  253.223373  2.563527  951.807692  0.192390   \n",
       "unknown              43.481225  262.390526  2.596187  942.830734  0.226459   \n",
       "\n",
       "                     emp_var_rate  cons_price_idx  cons_conf_idx  euribor3m  \\\n",
       "education                                                                     \n",
       "Basic                    0.191329       93.639933     -40.927595   3.729654   \n",
       "high.school              0.032937       93.584857     -40.940641   3.556157   \n",
       "illiterate              -0.133333       93.317333     -39.950000   3.516556   \n",
       "professional.course      0.173012       93.569864     -40.124108   3.710457   \n",
       "university.degree       -0.028090       93.493466     -39.975805   3.529663   \n",
       "unknown                  0.059099       93.658615     -39.877816   3.571098   \n",
       "\n",
       "                     nr_employed         y  \n",
       "education                                   \n",
       "Basic                5172.014113  0.087029  \n",
       "high.school          5164.994735  0.108355  \n",
       "illiterate           5171.777778  0.222222  \n",
       "professional.course  5170.155979  0.113485  \n",
       "university.degree    5163.226298  0.137245  \n",
       "unknown              5159.549509  0.145003  "
      ]
     },
     "execution_count": 23,
     "metadata": {},
     "output_type": "execute_result"
    }
   ],
   "source": [
    "df.groupby('education').mean()"
   ]
  },
  {
   "cell_type": "markdown",
   "metadata": {},
   "source": [
    "### Visualizations"
   ]
  },
  {
   "cell_type": "code",
   "execution_count": 24,
   "metadata": {},
   "outputs": [
    {
     "data": {
      "image/png": "[encoded data removed]",
      "text/plain": [
       "<Figure size 432x288 with 1 Axes>"
      ]
     },
     "metadata": {
      "needs_background": "light"
     },
     "output_type": "display_data"
    }
   ],
   "source": [
    "%matplotlib inline\n",
    "pd.crosstab(df.job,df.y).plot(kind='bar')\n",
    "\n",
    "plt.title('Purchase Frequency for Job Title')\n",
    "plt.xlabel('Job')\n",
    "plt.ylabel('Frequency of Purchase')\n",
    "plt.savefig('purchase_fre_job')"
   ]
  },
  {
   "cell_type": "markdown",
   "metadata": {},
   "source": [
    "__The frequency of purchase of the deposit depends a great deal on the job title.__   \n",
    "Thus, the job title can be a good predictor of the outcome variable."
   ]
  },
  {
   "cell_type": "code",
   "execution_count": 25,
   "metadata": {},
   "outputs": [
    {
     "data": {
      "image/png": "[encoded data removed]",
      "text/plain": [
       "<Figure size 432x288 with 1 Axes>"
      ]
     },
     "metadata": {
      "needs_background": "light"
     },
     "output_type": "display_data"
    }
   ],
   "source": [
    "table=pd.crosstab(df.marital,df.y)\n",
    "table.div(table.sum(1).astype(float), axis=0).plot(kind='bar', stacked=True)\n",
    "plt.title('Stacked Bar Chart of Marital Status vs Purchase')\n",
    "plt.xlabel('Marital Status')\n",
    "plt.ylabel('Proportion of Customers')\n",
    "plt.savefig('mariral_vs_pur_stack')"
   ]
  },
  {
   "cell_type": "markdown",
   "metadata": {},
   "source": [
    "__The marital status does not seem a strong predictor for the outcome variable.__"
   ]
  },
  {
   "cell_type": "code",
   "execution_count": 26,
   "metadata": {},
   "outputs": [
    {
     "data": {
      "image/png": "[encoded data removed]",
      "text/plain": [
       "<Figure size 432x288 with 1 Axes>"
      ]
     },
     "metadata": {
      "needs_background": "light"
     },
     "output_type": "display_data"
    }
   ],
   "source": [
    "table=pd.crosstab(df.education,df.y)\n",
    "table.div(table.sum(1).astype(float), axis=0).plot(kind='bar', stacked=True)\n",
    "plt.title('Stacked Bar Chart of Education vs Purchase')\n",
    "plt.xlabel('Education')\n",
    "plt.ylabel('Proportion of Customers')\n",
    "plt.savefig('edu_vs_pur_stack')"
   ]
  },
  {
   "cell_type": "markdown",
   "metadata": {},
   "source": [
    "__Education seems a good predictor of the outcome variable.__"
   ]
  },
  {
   "cell_type": "code",
   "execution_count": 27,
   "metadata": {},
   "outputs": [
    {
     "data": {
      "image/png": "[encoded data removed]",
      "text/plain": [
       "<Figure size 432x288 with 1 Axes>"
      ]
     },
     "metadata": {
      "needs_background": "light"
     },
     "output_type": "display_data"
    }
   ],
   "source": [
    "pd.crosstab(df.day_of_week,df.y).plot(kind='bar')\n",
    "plt.title('Purchase Frequency for Day of Week')\n",
    "plt.xlabel('Day of Week')\n",
    "plt.ylabel('Frequency of Purchase')\n",
    "plt.savefig('pur_dayofweek_bar')"
   ]
  },
  {
   "cell_type": "markdown",
   "metadata": {},
   "source": [
    "__Day of week may not be a good predictor of the outcome.__"
   ]
  },
  {
   "cell_type": "code",
   "execution_count": 28,
   "metadata": {},
   "outputs": [
    {
     "data": {
      "image/png": "[encoded data removed]",
      "text/plain": [
       "<Figure size 432x288 with 1 Axes>"
      ]
     },
     "metadata": {
      "needs_background": "light"
     },
     "output_type": "display_data"
    }
   ],
   "source": [
    "pd.crosstab(df.month,df.y).plot(kind='bar')\n",
    "plt.title('Purchase Frequency for Month')\n",
    "plt.xlabel('Month')\n",
    "plt.ylabel('Frequency of Purchase')\n",
    "plt.savefig('pur_fre_month_bar')"
   ]
  },
  {
   "cell_type": "markdown",
   "metadata": {},
   "source": [
    "__Month might be a good predictor of the outcome variable.__"
   ]
  },
  {
   "cell_type": "code",
   "execution_count": 29,
   "metadata": {},
   "outputs": [
    {
     "data": {
      "image/png": "[encoded data removed]",
      "text/plain": [
       "<Figure size 432x288 with 1 Axes>"
      ]
     },
     "metadata": {
      "needs_background": "light"
     },
     "output_type": "display_data"
    }
   ],
   "source": [
    "df.age.hist()\n",
    "plt.title('Histogram of Age')\n",
    "plt.xlabel('Age')\n",
    "plt.ylabel('Frequency')\n",
    "plt.savefig('hist_age')"
   ]
  },
  {
   "cell_type": "markdown",
   "metadata": {},
   "source": [
    "__Most of the customers of the bank in this dataset are in the age range of 30–40.__z\n"
   ]
  },
  {
   "cell_type": "code",
   "execution_count": 30,
   "metadata": {},
   "outputs": [
    {
     "data": {
      "image/png": "[encoded data removed]",
      "text/plain": [
       "<Figure size 432x288 with 1 Axes>"
      ]
     },
     "metadata": {
      "needs_background": "light"
     },
     "output_type": "display_data"
    }
   ],
   "source": [
    "pd.crosstab(df.poutcome,df.y).plot(kind='bar')\n",
    "plt.title('Purchase Frequency for Poutcome')\n",
    "plt.xlabel('Poutcome')\n",
    "plt.ylabel('Frequency of Purchase')\n",
    "plt.savefig('pur_fre_pout_bar')"
   ]
  },
  {
   "cell_type": "markdown",
   "metadata": {},
   "source": [
    "__Poutcome seems to be a good predictor of the outcome variable.__\n"
   ]
  },
  {
   "cell_type": "markdown",
   "metadata": {},
   "source": [
    "--------------------------"
   ]
  },
  {
   "cell_type": "markdown",
   "metadata": {},
   "source": [
    "### Create dummy variables\n",
    "That is variables with only two values, zero and one."
   ]
  },
  {
   "cell_type": "code",
   "execution_count": 31,
   "metadata": {},
   "outputs": [
    {
     "data": {
      "text/html": [
       "<div>\n",
       "<style scoped>\n",
       "    .dataframe tbody tr th:only-of-type {\n",
       "        vertical-align: middle;\n",
       "    }\n",
       "\n",
       "    .dataframe tbody tr th {\n",
       "        vertical-align: top;\n",
       "    }\n",
       "\n",
       "    .dataframe thead th {\n",
       "        text-align: right;\n",
       "    }\n",
       "</style>\n",
       "<table border=\"1\" class=\"dataframe\">\n",
       "  <thead>\n",
       "    <tr style=\"text-align: right;\">\n",
       "      <th></th>\n",
       "      <th>job_admin.</th>\n",
       "      <th>job_blue-collar</th>\n",
       "      <th>job_entrepreneur</th>\n",
       "      <th>job_housemaid</th>\n",
       "      <th>job_management</th>\n",
       "      <th>job_retired</th>\n",
       "      <th>job_self-employed</th>\n",
       "      <th>job_services</th>\n",
       "      <th>job_student</th>\n",
       "      <th>job_technician</th>\n",
       "      <th>job_unemployed</th>\n",
       "      <th>job_unknown</th>\n",
       "    </tr>\n",
       "  </thead>\n",
       "  <tbody>\n",
       "    <tr>\n",
       "      <th>0</th>\n",
       "      <td>0</td>\n",
       "      <td>1</td>\n",
       "      <td>0</td>\n",
       "      <td>0</td>\n",
       "      <td>0</td>\n",
       "      <td>0</td>\n",
       "      <td>0</td>\n",
       "      <td>0</td>\n",
       "      <td>0</td>\n",
       "      <td>0</td>\n",
       "      <td>0</td>\n",
       "      <td>0</td>\n",
       "    </tr>\n",
       "    <tr>\n",
       "      <th>1</th>\n",
       "      <td>0</td>\n",
       "      <td>0</td>\n",
       "      <td>0</td>\n",
       "      <td>0</td>\n",
       "      <td>0</td>\n",
       "      <td>0</td>\n",
       "      <td>0</td>\n",
       "      <td>0</td>\n",
       "      <td>0</td>\n",
       "      <td>1</td>\n",
       "      <td>0</td>\n",
       "      <td>0</td>\n",
       "    </tr>\n",
       "    <tr>\n",
       "      <th>2</th>\n",
       "      <td>0</td>\n",
       "      <td>0</td>\n",
       "      <td>0</td>\n",
       "      <td>0</td>\n",
       "      <td>1</td>\n",
       "      <td>0</td>\n",
       "      <td>0</td>\n",
       "      <td>0</td>\n",
       "      <td>0</td>\n",
       "      <td>0</td>\n",
       "      <td>0</td>\n",
       "      <td>0</td>\n",
       "    </tr>\n",
       "    <tr>\n",
       "      <th>3</th>\n",
       "      <td>0</td>\n",
       "      <td>0</td>\n",
       "      <td>0</td>\n",
       "      <td>0</td>\n",
       "      <td>0</td>\n",
       "      <td>0</td>\n",
       "      <td>0</td>\n",
       "      <td>1</td>\n",
       "      <td>0</td>\n",
       "      <td>0</td>\n",
       "      <td>0</td>\n",
       "      <td>0</td>\n",
       "    </tr>\n",
       "    <tr>\n",
       "      <th>4</th>\n",
       "      <td>0</td>\n",
       "      <td>0</td>\n",
       "      <td>0</td>\n",
       "      <td>0</td>\n",
       "      <td>0</td>\n",
       "      <td>1</td>\n",
       "      <td>0</td>\n",
       "      <td>0</td>\n",
       "      <td>0</td>\n",
       "      <td>0</td>\n",
       "      <td>0</td>\n",
       "      <td>0</td>\n",
       "    </tr>\n",
       "  </tbody>\n",
       "</table>\n",
       "</div>"
      ],
      "text/plain": [
       "   job_admin.  job_blue-collar  job_entrepreneur  job_housemaid  \\\n",
       "0           0                1                 0              0   \n",
       "1           0                0                 0              0   \n",
       "2           0                0                 0              0   \n",
       "3           0                0                 0              0   \n",
       "4           0                0                 0              0   \n",
       "\n",
       "   job_management  job_retired  job_self-employed  job_services  job_student  \\\n",
       "0               0            0                  0             0            0   \n",
       "1               0            0                  0             0            0   \n",
       "2               1            0                  0             0            0   \n",
       "3               0            0                  0             1            0   \n",
       "4               0            1                  0             0            0   \n",
       "\n",
       "   job_technician  job_unemployed  job_unknown  \n",
       "0               0               0            0  \n",
       "1               1               0            0  \n",
       "2               0               0            0  \n",
       "3               0               0            0  \n",
       "4               0               0            0  "
      ]
     },
     "execution_count": 31,
     "metadata": {},
     "output_type": "execute_result"
    }
   ],
   "source": [
    " pd.get_dummies(df['job'], prefix='job').head()"
   ]
  },
  {
   "cell_type": "code",
   "execution_count": 32,
   "metadata": {},
   "outputs": [],
   "source": [
    "cat_vars=['job','marital','education','default','housing','loan','contact','month','day_of_week','poutcome']\n",
    "df_cat=df.copy()\n",
    "for var in cat_vars:\n",
    "    #print(var)\n",
    "    cat_list='var'+'_'+var\n",
    "    #print(cat_list)\n",
    "    cat_list = pd.get_dummies(df[var], prefix=var)\n",
    "    #print(cat_list)\n",
    "    df_cat=df_cat.join(cat_list)\n"
   ]
  },
  {
   "cell_type": "code",
   "execution_count": 33,
   "metadata": {},
   "outputs": [
    {
     "data": {
      "text/html": [
       "<div>\n",
       "<style scoped>\n",
       "    .dataframe tbody tr th:only-of-type {\n",
       "        vertical-align: middle;\n",
       "    }\n",
       "\n",
       "    .dataframe tbody tr th {\n",
       "        vertical-align: top;\n",
       "    }\n",
       "\n",
       "    .dataframe thead th {\n",
       "        text-align: right;\n",
       "    }\n",
       "</style>\n",
       "<table border=\"1\" class=\"dataframe\">\n",
       "  <thead>\n",
       "    <tr style=\"text-align: right;\">\n",
       "      <th></th>\n",
       "      <th>age</th>\n",
       "      <th>job</th>\n",
       "      <th>marital</th>\n",
       "      <th>education</th>\n",
       "      <th>default</th>\n",
       "      <th>housing</th>\n",
       "      <th>loan</th>\n",
       "      <th>contact</th>\n",
       "      <th>month</th>\n",
       "      <th>day_of_week</th>\n",
       "      <th>duration</th>\n",
       "      <th>campaign</th>\n",
       "      <th>pdays</th>\n",
       "      <th>previous</th>\n",
       "      <th>poutcome</th>\n",
       "      <th>emp_var_rate</th>\n",
       "      <th>cons_price_idx</th>\n",
       "      <th>cons_conf_idx</th>\n",
       "      <th>euribor3m</th>\n",
       "      <th>nr_employed</th>\n",
       "      <th>y</th>\n",
       "      <th>job_admin.</th>\n",
       "      <th>job_blue-collar</th>\n",
       "      <th>job_entrepreneur</th>\n",
       "      <th>job_housemaid</th>\n",
       "      <th>job_management</th>\n",
       "      <th>job_retired</th>\n",
       "      <th>job_self-employed</th>\n",
       "      <th>job_services</th>\n",
       "      <th>job_student</th>\n",
       "      <th>job_technician</th>\n",
       "      <th>job_unemployed</th>\n",
       "      <th>job_unknown</th>\n",
       "      <th>marital_divorced</th>\n",
       "      <th>marital_married</th>\n",
       "      <th>marital_single</th>\n",
       "      <th>marital_unknown</th>\n",
       "      <th>education_Basic</th>\n",
       "      <th>education_high.school</th>\n",
       "      <th>education_illiterate</th>\n",
       "      <th>education_professional.course</th>\n",
       "      <th>education_university.degree</th>\n",
       "      <th>education_unknown</th>\n",
       "      <th>default_no</th>\n",
       "      <th>default_unknown</th>\n",
       "      <th>default_yes</th>\n",
       "      <th>housing_no</th>\n",
       "      <th>housing_unknown</th>\n",
       "      <th>housing_yes</th>\n",
       "      <th>loan_no</th>\n",
       "      <th>loan_unknown</th>\n",
       "      <th>loan_yes</th>\n",
       "      <th>contact_cellular</th>\n",
       "      <th>contact_telephone</th>\n",
       "      <th>month_apr</th>\n",
       "      <th>month_aug</th>\n",
       "      <th>month_dec</th>\n",
       "      <th>month_jul</th>\n",
       "      <th>month_jun</th>\n",
       "      <th>month_mar</th>\n",
       "      <th>month_may</th>\n",
       "      <th>month_nov</th>\n",
       "      <th>month_oct</th>\n",
       "      <th>month_sep</th>\n",
       "      <th>day_of_week_fri</th>\n",
       "      <th>day_of_week_mon</th>\n",
       "      <th>day_of_week_thu</th>\n",
       "      <th>day_of_week_tue</th>\n",
       "      <th>day_of_week_wed</th>\n",
       "      <th>poutcome_failure</th>\n",
       "      <th>poutcome_nonexistent</th>\n",
       "      <th>poutcome_success</th>\n",
       "    </tr>\n",
       "  </thead>\n",
       "  <tbody>\n",
       "    <tr>\n",
       "      <th>0</th>\n",
       "      <td>44</td>\n",
       "      <td>blue-collar</td>\n",
       "      <td>married</td>\n",
       "      <td>Basic</td>\n",
       "      <td>unknown</td>\n",
       "      <td>yes</td>\n",
       "      <td>no</td>\n",
       "      <td>cellular</td>\n",
       "      <td>aug</td>\n",
       "      <td>thu</td>\n",
       "      <td>210</td>\n",
       "      <td>1</td>\n",
       "      <td>999</td>\n",
       "      <td>0</td>\n",
       "      <td>nonexistent</td>\n",
       "      <td>1.4</td>\n",
       "      <td>93.444</td>\n",
       "      <td>-36.1</td>\n",
       "      <td>4.963</td>\n",
       "      <td>5228.1</td>\n",
       "      <td>0</td>\n",
       "      <td>0</td>\n",
       "      <td>1</td>\n",
       "      <td>0</td>\n",
       "      <td>0</td>\n",
       "      <td>0</td>\n",
       "      <td>0</td>\n",
       "      <td>0</td>\n",
       "      <td>0</td>\n",
       "      <td>0</td>\n",
       "      <td>0</td>\n",
       "      <td>0</td>\n",
       "      <td>0</td>\n",
       "      <td>0</td>\n",
       "      <td>1</td>\n",
       "      <td>0</td>\n",
       "      <td>0</td>\n",
       "      <td>1</td>\n",
       "      <td>0</td>\n",
       "      <td>0</td>\n",
       "      <td>0</td>\n",
       "      <td>0</td>\n",
       "      <td>0</td>\n",
       "      <td>0</td>\n",
       "      <td>1</td>\n",
       "      <td>0</td>\n",
       "      <td>0</td>\n",
       "      <td>0</td>\n",
       "      <td>1</td>\n",
       "      <td>1</td>\n",
       "      <td>0</td>\n",
       "      <td>0</td>\n",
       "      <td>1</td>\n",
       "      <td>0</td>\n",
       "      <td>0</td>\n",
       "      <td>1</td>\n",
       "      <td>0</td>\n",
       "      <td>0</td>\n",
       "      <td>0</td>\n",
       "      <td>0</td>\n",
       "      <td>0</td>\n",
       "      <td>0</td>\n",
       "      <td>0</td>\n",
       "      <td>0</td>\n",
       "      <td>0</td>\n",
       "      <td>0</td>\n",
       "      <td>1</td>\n",
       "      <td>0</td>\n",
       "      <td>0</td>\n",
       "      <td>0</td>\n",
       "      <td>1</td>\n",
       "      <td>0</td>\n",
       "    </tr>\n",
       "    <tr>\n",
       "      <th>1</th>\n",
       "      <td>53</td>\n",
       "      <td>technician</td>\n",
       "      <td>married</td>\n",
       "      <td>unknown</td>\n",
       "      <td>no</td>\n",
       "      <td>no</td>\n",
       "      <td>no</td>\n",
       "      <td>cellular</td>\n",
       "      <td>nov</td>\n",
       "      <td>fri</td>\n",
       "      <td>138</td>\n",
       "      <td>1</td>\n",
       "      <td>999</td>\n",
       "      <td>0</td>\n",
       "      <td>nonexistent</td>\n",
       "      <td>-0.1</td>\n",
       "      <td>93.200</td>\n",
       "      <td>-42.0</td>\n",
       "      <td>4.021</td>\n",
       "      <td>5195.8</td>\n",
       "      <td>0</td>\n",
       "      <td>0</td>\n",
       "      <td>0</td>\n",
       "      <td>0</td>\n",
       "      <td>0</td>\n",
       "      <td>0</td>\n",
       "      <td>0</td>\n",
       "      <td>0</td>\n",
       "      <td>0</td>\n",
       "      <td>0</td>\n",
       "      <td>1</td>\n",
       "      <td>0</td>\n",
       "      <td>0</td>\n",
       "      <td>0</td>\n",
       "      <td>1</td>\n",
       "      <td>0</td>\n",
       "      <td>0</td>\n",
       "      <td>0</td>\n",
       "      <td>0</td>\n",
       "      <td>0</td>\n",
       "      <td>0</td>\n",
       "      <td>0</td>\n",
       "      <td>1</td>\n",
       "      <td>1</td>\n",
       "      <td>0</td>\n",
       "      <td>0</td>\n",
       "      <td>1</td>\n",
       "      <td>0</td>\n",
       "      <td>0</td>\n",
       "      <td>1</td>\n",
       "      <td>0</td>\n",
       "      <td>0</td>\n",
       "      <td>1</td>\n",
       "      <td>0</td>\n",
       "      <td>0</td>\n",
       "      <td>0</td>\n",
       "      <td>0</td>\n",
       "      <td>0</td>\n",
       "      <td>0</td>\n",
       "      <td>0</td>\n",
       "      <td>0</td>\n",
       "      <td>1</td>\n",
       "      <td>0</td>\n",
       "      <td>0</td>\n",
       "      <td>1</td>\n",
       "      <td>0</td>\n",
       "      <td>0</td>\n",
       "      <td>0</td>\n",
       "      <td>0</td>\n",
       "      <td>0</td>\n",
       "      <td>1</td>\n",
       "      <td>0</td>\n",
       "    </tr>\n",
       "    <tr>\n",
       "      <th>2</th>\n",
       "      <td>28</td>\n",
       "      <td>management</td>\n",
       "      <td>single</td>\n",
       "      <td>university.degree</td>\n",
       "      <td>no</td>\n",
       "      <td>yes</td>\n",
       "      <td>no</td>\n",
       "      <td>cellular</td>\n",
       "      <td>jun</td>\n",
       "      <td>thu</td>\n",
       "      <td>339</td>\n",
       "      <td>3</td>\n",
       "      <td>6</td>\n",
       "      <td>2</td>\n",
       "      <td>success</td>\n",
       "      <td>-1.7</td>\n",
       "      <td>94.055</td>\n",
       "      <td>-39.8</td>\n",
       "      <td>0.729</td>\n",
       "      <td>4991.6</td>\n",
       "      <td>1</td>\n",
       "      <td>0</td>\n",
       "      <td>0</td>\n",
       "      <td>0</td>\n",
       "      <td>0</td>\n",
       "      <td>1</td>\n",
       "      <td>0</td>\n",
       "      <td>0</td>\n",
       "      <td>0</td>\n",
       "      <td>0</td>\n",
       "      <td>0</td>\n",
       "      <td>0</td>\n",
       "      <td>0</td>\n",
       "      <td>0</td>\n",
       "      <td>0</td>\n",
       "      <td>1</td>\n",
       "      <td>0</td>\n",
       "      <td>0</td>\n",
       "      <td>0</td>\n",
       "      <td>0</td>\n",
       "      <td>0</td>\n",
       "      <td>1</td>\n",
       "      <td>0</td>\n",
       "      <td>1</td>\n",
       "      <td>0</td>\n",
       "      <td>0</td>\n",
       "      <td>0</td>\n",
       "      <td>0</td>\n",
       "      <td>1</td>\n",
       "      <td>1</td>\n",
       "      <td>0</td>\n",
       "      <td>0</td>\n",
       "      <td>1</td>\n",
       "      <td>0</td>\n",
       "      <td>0</td>\n",
       "      <td>0</td>\n",
       "      <td>0</td>\n",
       "      <td>0</td>\n",
       "      <td>1</td>\n",
       "      <td>0</td>\n",
       "      <td>0</td>\n",
       "      <td>0</td>\n",
       "      <td>0</td>\n",
       "      <td>0</td>\n",
       "      <td>0</td>\n",
       "      <td>0</td>\n",
       "      <td>1</td>\n",
       "      <td>0</td>\n",
       "      <td>0</td>\n",
       "      <td>0</td>\n",
       "      <td>0</td>\n",
       "      <td>1</td>\n",
       "    </tr>\n",
       "    <tr>\n",
       "      <th>3</th>\n",
       "      <td>39</td>\n",
       "      <td>services</td>\n",
       "      <td>married</td>\n",
       "      <td>high.school</td>\n",
       "      <td>no</td>\n",
       "      <td>no</td>\n",
       "      <td>no</td>\n",
       "      <td>cellular</td>\n",
       "      <td>apr</td>\n",
       "      <td>fri</td>\n",
       "      <td>185</td>\n",
       "      <td>2</td>\n",
       "      <td>999</td>\n",
       "      <td>0</td>\n",
       "      <td>nonexistent</td>\n",
       "      <td>-1.8</td>\n",
       "      <td>93.075</td>\n",
       "      <td>-47.1</td>\n",
       "      <td>1.405</td>\n",
       "      <td>5099.1</td>\n",
       "      <td>0</td>\n",
       "      <td>0</td>\n",
       "      <td>0</td>\n",
       "      <td>0</td>\n",
       "      <td>0</td>\n",
       "      <td>0</td>\n",
       "      <td>0</td>\n",
       "      <td>0</td>\n",
       "      <td>1</td>\n",
       "      <td>0</td>\n",
       "      <td>0</td>\n",
       "      <td>0</td>\n",
       "      <td>0</td>\n",
       "      <td>0</td>\n",
       "      <td>1</td>\n",
       "      <td>0</td>\n",
       "      <td>0</td>\n",
       "      <td>0</td>\n",
       "      <td>1</td>\n",
       "      <td>0</td>\n",
       "      <td>0</td>\n",
       "      <td>0</td>\n",
       "      <td>0</td>\n",
       "      <td>1</td>\n",
       "      <td>0</td>\n",
       "      <td>0</td>\n",
       "      <td>1</td>\n",
       "      <td>0</td>\n",
       "      <td>0</td>\n",
       "      <td>1</td>\n",
       "      <td>0</td>\n",
       "      <td>0</td>\n",
       "      <td>1</td>\n",
       "      <td>0</td>\n",
       "      <td>1</td>\n",
       "      <td>0</td>\n",
       "      <td>0</td>\n",
       "      <td>0</td>\n",
       "      <td>0</td>\n",
       "      <td>0</td>\n",
       "      <td>0</td>\n",
       "      <td>0</td>\n",
       "      <td>0</td>\n",
       "      <td>0</td>\n",
       "      <td>1</td>\n",
       "      <td>0</td>\n",
       "      <td>0</td>\n",
       "      <td>0</td>\n",
       "      <td>0</td>\n",
       "      <td>0</td>\n",
       "      <td>1</td>\n",
       "      <td>0</td>\n",
       "    </tr>\n",
       "    <tr>\n",
       "      <th>4</th>\n",
       "      <td>55</td>\n",
       "      <td>retired</td>\n",
       "      <td>married</td>\n",
       "      <td>Basic</td>\n",
       "      <td>no</td>\n",
       "      <td>yes</td>\n",
       "      <td>no</td>\n",
       "      <td>cellular</td>\n",
       "      <td>aug</td>\n",
       "      <td>fri</td>\n",
       "      <td>137</td>\n",
       "      <td>1</td>\n",
       "      <td>3</td>\n",
       "      <td>1</td>\n",
       "      <td>success</td>\n",
       "      <td>-2.9</td>\n",
       "      <td>92.201</td>\n",
       "      <td>-31.4</td>\n",
       "      <td>0.869</td>\n",
       "      <td>5076.2</td>\n",
       "      <td>1</td>\n",
       "      <td>0</td>\n",
       "      <td>0</td>\n",
       "      <td>0</td>\n",
       "      <td>0</td>\n",
       "      <td>0</td>\n",
       "      <td>1</td>\n",
       "      <td>0</td>\n",
       "      <td>0</td>\n",
       "      <td>0</td>\n",
       "      <td>0</td>\n",
       "      <td>0</td>\n",
       "      <td>0</td>\n",
       "      <td>0</td>\n",
       "      <td>1</td>\n",
       "      <td>0</td>\n",
       "      <td>0</td>\n",
       "      <td>1</td>\n",
       "      <td>0</td>\n",
       "      <td>0</td>\n",
       "      <td>0</td>\n",
       "      <td>0</td>\n",
       "      <td>0</td>\n",
       "      <td>1</td>\n",
       "      <td>0</td>\n",
       "      <td>0</td>\n",
       "      <td>0</td>\n",
       "      <td>0</td>\n",
       "      <td>1</td>\n",
       "      <td>1</td>\n",
       "      <td>0</td>\n",
       "      <td>0</td>\n",
       "      <td>1</td>\n",
       "      <td>0</td>\n",
       "      <td>0</td>\n",
       "      <td>1</td>\n",
       "      <td>0</td>\n",
       "      <td>0</td>\n",
       "      <td>0</td>\n",
       "      <td>0</td>\n",
       "      <td>0</td>\n",
       "      <td>0</td>\n",
       "      <td>0</td>\n",
       "      <td>0</td>\n",
       "      <td>1</td>\n",
       "      <td>0</td>\n",
       "      <td>0</td>\n",
       "      <td>0</td>\n",
       "      <td>0</td>\n",
       "      <td>0</td>\n",
       "      <td>0</td>\n",
       "      <td>1</td>\n",
       "    </tr>\n",
       "  </tbody>\n",
       "</table>\n",
       "</div>"
      ],
      "text/plain": [
       "   age          job  marital          education  default housing loan  \\\n",
       "0   44  blue-collar  married              Basic  unknown     yes   no   \n",
       "1   53   technician  married            unknown       no      no   no   \n",
       "2   28   management   single  university.degree       no     yes   no   \n",
       "3   39     services  married        high.school       no      no   no   \n",
       "4   55      retired  married              Basic       no     yes   no   \n",
       "\n",
       "    contact month day_of_week  duration  campaign  pdays  previous  \\\n",
       "0  cellular   aug         thu       210         1    999         0   \n",
       "1  cellular   nov         fri       138         1    999         0   \n",
       "2  cellular   jun         thu       339         3      6         2   \n",
       "3  cellular   apr         fri       185         2    999         0   \n",
       "4  cellular   aug         fri       137         1      3         1   \n",
       "\n",
       "      poutcome  emp_var_rate  cons_price_idx  cons_conf_idx  euribor3m  \\\n",
       "0  nonexistent           1.4          93.444          -36.1      4.963   \n",
       "1  nonexistent          -0.1          93.200          -42.0      4.021   \n",
       "2      success          -1.7          94.055          -39.8      0.729   \n",
       "3  nonexistent          -1.8          93.075          -47.1      1.405   \n",
       "4      success          -2.9          92.201          -31.4      0.869   \n",
       "\n",
       "   nr_employed  y  job_admin.  job_blue-collar  job_entrepreneur  \\\n",
       "0       5228.1  0           0                1                 0   \n",
       "1       5195.8  0           0                0                 0   \n",
       "2       4991.6  1           0                0                 0   \n",
       "3       5099.1  0           0                0                 0   \n",
       "4       5076.2  1           0                0                 0   \n",
       "\n",
       "   job_housemaid  job_management  job_retired  job_self-employed  \\\n",
       "0              0               0            0                  0   \n",
       "1              0               0            0                  0   \n",
       "2              0               1            0                  0   \n",
       "3              0               0            0                  0   \n",
       "4              0               0            1                  0   \n",
       "\n",
       "   job_services  job_student  job_technician  job_unemployed  job_unknown  \\\n",
       "0             0            0               0               0            0   \n",
       "1             0            0               1               0            0   \n",
       "2             0            0               0               0            0   \n",
       "3             1            0               0               0            0   \n",
       "4             0            0               0               0            0   \n",
       "\n",
       "   marital_divorced  marital_married  marital_single  marital_unknown  \\\n",
       "0                 0                1               0                0   \n",
       "1                 0                1               0                0   \n",
       "2                 0                0               1                0   \n",
       "3                 0                1               0                0   \n",
       "4                 0                1               0                0   \n",
       "\n",
       "   education_Basic  education_high.school  education_illiterate  \\\n",
       "0                1                      0                     0   \n",
       "1                0                      0                     0   \n",
       "2                0                      0                     0   \n",
       "3                0                      1                     0   \n",
       "4                1                      0                     0   \n",
       "\n",
       "   education_professional.course  education_university.degree  \\\n",
       "0                              0                            0   \n",
       "1                              0                            0   \n",
       "2                              0                            1   \n",
       "3                              0                            0   \n",
       "4                              0                            0   \n",
       "\n",
       "   education_unknown  default_no  default_unknown  default_yes  housing_no  \\\n",
       "0                  0           0                1            0           0   \n",
       "1                  1           1                0            0           1   \n",
       "2                  0           1                0            0           0   \n",
       "3                  0           1                0            0           1   \n",
       "4                  0           1                0            0           0   \n",
       "\n",
       "   housing_unknown  housing_yes  loan_no  loan_unknown  loan_yes  \\\n",
       "0                0            1        1             0         0   \n",
       "1                0            0        1             0         0   \n",
       "2                0            1        1             0         0   \n",
       "3                0            0        1             0         0   \n",
       "4                0            1        1             0         0   \n",
       "\n",
       "   contact_cellular  contact_telephone  month_apr  month_aug  month_dec  \\\n",
       "0                 1                  0          0          1          0   \n",
       "1                 1                  0          0          0          0   \n",
       "2                 1                  0          0          0          0   \n",
       "3                 1                  0          1          0          0   \n",
       "4                 1                  0          0          1          0   \n",
       "\n",
       "   month_jul  month_jun  month_mar  month_may  month_nov  month_oct  \\\n",
       "0          0          0          0          0          0          0   \n",
       "1          0          0          0          0          1          0   \n",
       "2          0          1          0          0          0          0   \n",
       "3          0          0          0          0          0          0   \n",
       "4          0          0          0          0          0          0   \n",
       "\n",
       "   month_sep  day_of_week_fri  day_of_week_mon  day_of_week_thu  \\\n",
       "0          0                0                0                1   \n",
       "1          0                1                0                0   \n",
       "2          0                0                0                1   \n",
       "3          0                1                0                0   \n",
       "4          0                1                0                0   \n",
       "\n",
       "   day_of_week_tue  day_of_week_wed  poutcome_failure  poutcome_nonexistent  \\\n",
       "0                0                0                 0                     1   \n",
       "1                0                0                 0                     1   \n",
       "2                0                0                 0                     0   \n",
       "3                0                0                 0                     1   \n",
       "4                0                0                 0                     0   \n",
       "\n",
       "   poutcome_success  \n",
       "0                 0  \n",
       "1                 0  \n",
       "2                 1  \n",
       "3                 0  \n",
       "4                 1  "
      ]
     },
     "execution_count": 33,
     "metadata": {},
     "output_type": "execute_result"
    }
   ],
   "source": [
    "df_cat.head()"
   ]
  },
  {
   "cell_type": "code",
   "execution_count": 34,
   "metadata": {},
   "outputs": [],
   "source": [
    "#cat_vars=['job','marital','education','default','housing','loan','contact','month','day_of_week','poutcome']\n",
    "data_vars=df_cat.columns.values.tolist()\n",
    "to_keep=[i for i in data_vars if i not in cat_vars]"
   ]
  },
  {
   "cell_type": "code",
   "execution_count": 35,
   "metadata": {},
   "outputs": [
    {
     "data": {
      "text/plain": [
       "['age',\n",
       " 'duration',\n",
       " 'campaign',\n",
       " 'pdays',\n",
       " 'previous',\n",
       " 'emp_var_rate',\n",
       " 'cons_price_idx',\n",
       " 'cons_conf_idx',\n",
       " 'euribor3m',\n",
       " 'nr_employed',\n",
       " 'y',\n",
       " 'job_admin.',\n",
       " 'job_blue-collar',\n",
       " 'job_entrepreneur',\n",
       " 'job_housemaid',\n",
       " 'job_management',\n",
       " 'job_retired',\n",
       " 'job_self-employed',\n",
       " 'job_services',\n",
       " 'job_student',\n",
       " 'job_technician',\n",
       " 'job_unemployed',\n",
       " 'job_unknown',\n",
       " 'marital_divorced',\n",
       " 'marital_married',\n",
       " 'marital_single',\n",
       " 'marital_unknown',\n",
       " 'education_Basic',\n",
       " 'education_high.school',\n",
       " 'education_illiterate',\n",
       " 'education_professional.course',\n",
       " 'education_university.degree',\n",
       " 'education_unknown',\n",
       " 'default_no',\n",
       " 'default_unknown',\n",
       " 'default_yes',\n",
       " 'housing_no',\n",
       " 'housing_unknown',\n",
       " 'housing_yes',\n",
       " 'loan_no',\n",
       " 'loan_unknown',\n",
       " 'loan_yes',\n",
       " 'contact_cellular',\n",
       " 'contact_telephone',\n",
       " 'month_apr',\n",
       " 'month_aug',\n",
       " 'month_dec',\n",
       " 'month_jul',\n",
       " 'month_jun',\n",
       " 'month_mar',\n",
       " 'month_may',\n",
       " 'month_nov',\n",
       " 'month_oct',\n",
       " 'month_sep',\n",
       " 'day_of_week_fri',\n",
       " 'day_of_week_mon',\n",
       " 'day_of_week_thu',\n",
       " 'day_of_week_tue',\n",
       " 'day_of_week_wed',\n",
       " 'poutcome_failure',\n",
       " 'poutcome_nonexistent',\n",
       " 'poutcome_success']"
      ]
     },
     "execution_count": 35,
     "metadata": {},
     "output_type": "execute_result"
    }
   ],
   "source": [
    "to_keep"
   ]
  },
  {
   "cell_type": "code",
   "execution_count": 36,
   "metadata": {},
   "outputs": [
    {
     "data": {
      "text/plain": [
       "array(['age', 'duration', 'campaign', 'pdays', 'previous', 'emp_var_rate',\n",
       "       'cons_price_idx', 'cons_conf_idx', 'euribor3m', 'nr_employed', 'y',\n",
       "       'job_admin.', 'job_blue-collar', 'job_entrepreneur',\n",
       "       'job_housemaid', 'job_management', 'job_retired',\n",
       "       'job_self-employed', 'job_services', 'job_student',\n",
       "       'job_technician', 'job_unemployed', 'job_unknown',\n",
       "       'marital_divorced', 'marital_married', 'marital_single',\n",
       "       'marital_unknown', 'education_Basic', 'education_high.school',\n",
       "       'education_illiterate', 'education_professional.course',\n",
       "       'education_university.degree', 'education_unknown', 'default_no',\n",
       "       'default_unknown', 'default_yes', 'housing_no', 'housing_unknown',\n",
       "       'housing_yes', 'loan_no', 'loan_unknown', 'loan_yes',\n",
       "       'contact_cellular', 'contact_telephone', 'month_apr', 'month_aug',\n",
       "       'month_dec', 'month_jul', 'month_jun', 'month_mar', 'month_may',\n",
       "       'month_nov', 'month_oct', 'month_sep', 'day_of_week_fri',\n",
       "       'day_of_week_mon', 'day_of_week_thu', 'day_of_week_tue',\n",
       "       'day_of_week_wed', 'poutcome_failure', 'poutcome_nonexistent',\n",
       "       'poutcome_success'], dtype=object)"
      ]
     },
     "execution_count": 36,
     "metadata": {},
     "output_type": "execute_result"
    }
   ],
   "source": [
    "df_model=df_cat[to_keep]\n",
    "df_model.columns.values"
   ]
  },
  {
   "cell_type": "code",
   "execution_count": 37,
   "metadata": {},
   "outputs": [
    {
     "data": {
      "text/html": [
       "<div>\n",
       "<style scoped>\n",
       "    .dataframe tbody tr th:only-of-type {\n",
       "        vertical-align: middle;\n",
       "    }\n",
       "\n",
       "    .dataframe tbody tr th {\n",
       "        vertical-align: top;\n",
       "    }\n",
       "\n",
       "    .dataframe thead th {\n",
       "        text-align: right;\n",
       "    }\n",
       "</style>\n",
       "<table border=\"1\" class=\"dataframe\">\n",
       "  <thead>\n",
       "    <tr style=\"text-align: right;\">\n",
       "      <th></th>\n",
       "      <th>age</th>\n",
       "      <th>duration</th>\n",
       "      <th>campaign</th>\n",
       "      <th>pdays</th>\n",
       "      <th>previous</th>\n",
       "      <th>emp_var_rate</th>\n",
       "      <th>cons_price_idx</th>\n",
       "      <th>cons_conf_idx</th>\n",
       "      <th>euribor3m</th>\n",
       "      <th>nr_employed</th>\n",
       "      <th>y</th>\n",
       "      <th>job_admin.</th>\n",
       "      <th>job_blue-collar</th>\n",
       "      <th>job_entrepreneur</th>\n",
       "      <th>job_housemaid</th>\n",
       "      <th>job_management</th>\n",
       "      <th>job_retired</th>\n",
       "      <th>job_self-employed</th>\n",
       "      <th>job_services</th>\n",
       "      <th>job_student</th>\n",
       "      <th>job_technician</th>\n",
       "      <th>job_unemployed</th>\n",
       "      <th>job_unknown</th>\n",
       "      <th>marital_divorced</th>\n",
       "      <th>marital_married</th>\n",
       "      <th>marital_single</th>\n",
       "      <th>marital_unknown</th>\n",
       "      <th>education_Basic</th>\n",
       "      <th>education_high.school</th>\n",
       "      <th>education_illiterate</th>\n",
       "      <th>education_professional.course</th>\n",
       "      <th>education_university.degree</th>\n",
       "      <th>education_unknown</th>\n",
       "      <th>default_no</th>\n",
       "      <th>default_unknown</th>\n",
       "      <th>default_yes</th>\n",
       "      <th>housing_no</th>\n",
       "      <th>housing_unknown</th>\n",
       "      <th>housing_yes</th>\n",
       "      <th>loan_no</th>\n",
       "      <th>loan_unknown</th>\n",
       "      <th>loan_yes</th>\n",
       "      <th>contact_cellular</th>\n",
       "      <th>contact_telephone</th>\n",
       "      <th>month_apr</th>\n",
       "      <th>month_aug</th>\n",
       "      <th>month_dec</th>\n",
       "      <th>month_jul</th>\n",
       "      <th>month_jun</th>\n",
       "      <th>month_mar</th>\n",
       "      <th>month_may</th>\n",
       "      <th>month_nov</th>\n",
       "      <th>month_oct</th>\n",
       "      <th>month_sep</th>\n",
       "      <th>day_of_week_fri</th>\n",
       "      <th>day_of_week_mon</th>\n",
       "      <th>day_of_week_thu</th>\n",
       "      <th>day_of_week_tue</th>\n",
       "      <th>day_of_week_wed</th>\n",
       "      <th>poutcome_failure</th>\n",
       "      <th>poutcome_nonexistent</th>\n",
       "      <th>poutcome_success</th>\n",
       "    </tr>\n",
       "  </thead>\n",
       "  <tbody>\n",
       "    <tr>\n",
       "      <th>7660</th>\n",
       "      <td>38</td>\n",
       "      <td>114</td>\n",
       "      <td>4</td>\n",
       "      <td>999</td>\n",
       "      <td>0</td>\n",
       "      <td>-1.8</td>\n",
       "      <td>92.893</td>\n",
       "      <td>-46.2</td>\n",
       "      <td>1.244</td>\n",
       "      <td>5099.1</td>\n",
       "      <td>0</td>\n",
       "      <td>1</td>\n",
       "      <td>0</td>\n",
       "      <td>0</td>\n",
       "      <td>0</td>\n",
       "      <td>0</td>\n",
       "      <td>0</td>\n",
       "      <td>0</td>\n",
       "      <td>0</td>\n",
       "      <td>0</td>\n",
       "      <td>0</td>\n",
       "      <td>0</td>\n",
       "      <td>0</td>\n",
       "      <td>0</td>\n",
       "      <td>0</td>\n",
       "      <td>1</td>\n",
       "      <td>0</td>\n",
       "      <td>0</td>\n",
       "      <td>0</td>\n",
       "      <td>0</td>\n",
       "      <td>0</td>\n",
       "      <td>1</td>\n",
       "      <td>0</td>\n",
       "      <td>1</td>\n",
       "      <td>0</td>\n",
       "      <td>0</td>\n",
       "      <td>1</td>\n",
       "      <td>0</td>\n",
       "      <td>0</td>\n",
       "      <td>1</td>\n",
       "      <td>0</td>\n",
       "      <td>0</td>\n",
       "      <td>1</td>\n",
       "      <td>0</td>\n",
       "      <td>0</td>\n",
       "      <td>0</td>\n",
       "      <td>0</td>\n",
       "      <td>0</td>\n",
       "      <td>0</td>\n",
       "      <td>0</td>\n",
       "      <td>1</td>\n",
       "      <td>0</td>\n",
       "      <td>0</td>\n",
       "      <td>0</td>\n",
       "      <td>0</td>\n",
       "      <td>1</td>\n",
       "      <td>0</td>\n",
       "      <td>0</td>\n",
       "      <td>0</td>\n",
       "      <td>0</td>\n",
       "      <td>1</td>\n",
       "      <td>0</td>\n",
       "    </tr>\n",
       "    <tr>\n",
       "      <th>7253</th>\n",
       "      <td>32</td>\n",
       "      <td>136</td>\n",
       "      <td>1</td>\n",
       "      <td>999</td>\n",
       "      <td>0</td>\n",
       "      <td>1.4</td>\n",
       "      <td>93.444</td>\n",
       "      <td>-36.1</td>\n",
       "      <td>4.964</td>\n",
       "      <td>5228.1</td>\n",
       "      <td>0</td>\n",
       "      <td>1</td>\n",
       "      <td>0</td>\n",
       "      <td>0</td>\n",
       "      <td>0</td>\n",
       "      <td>0</td>\n",
       "      <td>0</td>\n",
       "      <td>0</td>\n",
       "      <td>0</td>\n",
       "      <td>0</td>\n",
       "      <td>0</td>\n",
       "      <td>0</td>\n",
       "      <td>0</td>\n",
       "      <td>0</td>\n",
       "      <td>0</td>\n",
       "      <td>1</td>\n",
       "      <td>0</td>\n",
       "      <td>0</td>\n",
       "      <td>1</td>\n",
       "      <td>0</td>\n",
       "      <td>0</td>\n",
       "      <td>0</td>\n",
       "      <td>0</td>\n",
       "      <td>1</td>\n",
       "      <td>0</td>\n",
       "      <td>0</td>\n",
       "      <td>0</td>\n",
       "      <td>0</td>\n",
       "      <td>1</td>\n",
       "      <td>1</td>\n",
       "      <td>0</td>\n",
       "      <td>0</td>\n",
       "      <td>1</td>\n",
       "      <td>0</td>\n",
       "      <td>0</td>\n",
       "      <td>1</td>\n",
       "      <td>0</td>\n",
       "      <td>0</td>\n",
       "      <td>0</td>\n",
       "      <td>0</td>\n",
       "      <td>0</td>\n",
       "      <td>0</td>\n",
       "      <td>0</td>\n",
       "      <td>0</td>\n",
       "      <td>1</td>\n",
       "      <td>0</td>\n",
       "      <td>0</td>\n",
       "      <td>0</td>\n",
       "      <td>0</td>\n",
       "      <td>0</td>\n",
       "      <td>1</td>\n",
       "      <td>0</td>\n",
       "    </tr>\n",
       "    <tr>\n",
       "      <th>23131</th>\n",
       "      <td>64</td>\n",
       "      <td>354</td>\n",
       "      <td>1</td>\n",
       "      <td>999</td>\n",
       "      <td>0</td>\n",
       "      <td>-3.0</td>\n",
       "      <td>92.713</td>\n",
       "      <td>-33.0</td>\n",
       "      <td>0.715</td>\n",
       "      <td>5023.5</td>\n",
       "      <td>1</td>\n",
       "      <td>0</td>\n",
       "      <td>0</td>\n",
       "      <td>0</td>\n",
       "      <td>0</td>\n",
       "      <td>0</td>\n",
       "      <td>1</td>\n",
       "      <td>0</td>\n",
       "      <td>0</td>\n",
       "      <td>0</td>\n",
       "      <td>0</td>\n",
       "      <td>0</td>\n",
       "      <td>0</td>\n",
       "      <td>0</td>\n",
       "      <td>1</td>\n",
       "      <td>0</td>\n",
       "      <td>0</td>\n",
       "      <td>0</td>\n",
       "      <td>1</td>\n",
       "      <td>0</td>\n",
       "      <td>0</td>\n",
       "      <td>0</td>\n",
       "      <td>0</td>\n",
       "      <td>1</td>\n",
       "      <td>0</td>\n",
       "      <td>0</td>\n",
       "      <td>0</td>\n",
       "      <td>0</td>\n",
       "      <td>1</td>\n",
       "      <td>1</td>\n",
       "      <td>0</td>\n",
       "      <td>0</td>\n",
       "      <td>1</td>\n",
       "      <td>0</td>\n",
       "      <td>0</td>\n",
       "      <td>0</td>\n",
       "      <td>1</td>\n",
       "      <td>0</td>\n",
       "      <td>0</td>\n",
       "      <td>0</td>\n",
       "      <td>0</td>\n",
       "      <td>0</td>\n",
       "      <td>0</td>\n",
       "      <td>0</td>\n",
       "      <td>0</td>\n",
       "      <td>0</td>\n",
       "      <td>0</td>\n",
       "      <td>0</td>\n",
       "      <td>1</td>\n",
       "      <td>0</td>\n",
       "      <td>1</td>\n",
       "      <td>0</td>\n",
       "    </tr>\n",
       "    <tr>\n",
       "      <th>2861</th>\n",
       "      <td>40</td>\n",
       "      <td>777</td>\n",
       "      <td>2</td>\n",
       "      <td>999</td>\n",
       "      <td>0</td>\n",
       "      <td>-1.8</td>\n",
       "      <td>92.893</td>\n",
       "      <td>-46.2</td>\n",
       "      <td>1.281</td>\n",
       "      <td>5099.1</td>\n",
       "      <td>0</td>\n",
       "      <td>0</td>\n",
       "      <td>1</td>\n",
       "      <td>0</td>\n",
       "      <td>0</td>\n",
       "      <td>0</td>\n",
       "      <td>0</td>\n",
       "      <td>0</td>\n",
       "      <td>0</td>\n",
       "      <td>0</td>\n",
       "      <td>0</td>\n",
       "      <td>0</td>\n",
       "      <td>0</td>\n",
       "      <td>0</td>\n",
       "      <td>1</td>\n",
       "      <td>0</td>\n",
       "      <td>0</td>\n",
       "      <td>1</td>\n",
       "      <td>0</td>\n",
       "      <td>0</td>\n",
       "      <td>0</td>\n",
       "      <td>0</td>\n",
       "      <td>0</td>\n",
       "      <td>0</td>\n",
       "      <td>1</td>\n",
       "      <td>0</td>\n",
       "      <td>0</td>\n",
       "      <td>0</td>\n",
       "      <td>1</td>\n",
       "      <td>0</td>\n",
       "      <td>0</td>\n",
       "      <td>1</td>\n",
       "      <td>1</td>\n",
       "      <td>0</td>\n",
       "      <td>0</td>\n",
       "      <td>0</td>\n",
       "      <td>0</td>\n",
       "      <td>0</td>\n",
       "      <td>0</td>\n",
       "      <td>0</td>\n",
       "      <td>1</td>\n",
       "      <td>0</td>\n",
       "      <td>0</td>\n",
       "      <td>0</td>\n",
       "      <td>0</td>\n",
       "      <td>0</td>\n",
       "      <td>0</td>\n",
       "      <td>0</td>\n",
       "      <td>1</td>\n",
       "      <td>0</td>\n",
       "      <td>1</td>\n",
       "      <td>0</td>\n",
       "    </tr>\n",
       "  </tbody>\n",
       "</table>\n",
       "</div>"
      ],
      "text/plain": [
       "       age  duration  campaign  pdays  previous  emp_var_rate  cons_price_idx  \\\n",
       "7660    38       114         4    999         0          -1.8          92.893   \n",
       "7253    32       136         1    999         0           1.4          93.444   \n",
       "23131   64       354         1    999         0          -3.0          92.713   \n",
       "2861    40       777         2    999         0          -1.8          92.893   \n",
       "\n",
       "       cons_conf_idx  euribor3m  nr_employed  y  job_admin.  job_blue-collar  \\\n",
       "7660           -46.2      1.244       5099.1  0           1                0   \n",
       "7253           -36.1      4.964       5228.1  0           1                0   \n",
       "23131          -33.0      0.715       5023.5  1           0                0   \n",
       "2861           -46.2      1.281       5099.1  0           0                1   \n",
       "\n",
       "       job_entrepreneur  job_housemaid  job_management  job_retired  \\\n",
       "7660                  0              0               0            0   \n",
       "7253                  0              0               0            0   \n",
       "23131                 0              0               0            1   \n",
       "2861                  0              0               0            0   \n",
       "\n",
       "       job_self-employed  job_services  job_student  job_technician  \\\n",
       "7660                   0             0            0               0   \n",
       "7253                   0             0            0               0   \n",
       "23131                  0             0            0               0   \n",
       "2861                   0             0            0               0   \n",
       "\n",
       "       job_unemployed  job_unknown  marital_divorced  marital_married  \\\n",
       "7660                0            0                 0                0   \n",
       "7253                0            0                 0                0   \n",
       "23131               0            0                 0                1   \n",
       "2861                0            0                 0                1   \n",
       "\n",
       "       marital_single  marital_unknown  education_Basic  \\\n",
       "7660                1                0                0   \n",
       "7253                1                0                0   \n",
       "23131               0                0                0   \n",
       "2861                0                0                1   \n",
       "\n",
       "       education_high.school  education_illiterate  \\\n",
       "7660                       0                     0   \n",
       "7253                       1                     0   \n",
       "23131                      1                     0   \n",
       "2861                       0                     0   \n",
       "\n",
       "       education_professional.course  education_university.degree  \\\n",
       "7660                               0                            1   \n",
       "7253                               0                            0   \n",
       "23131                              0                            0   \n",
       "2861                               0                            0   \n",
       "\n",
       "       education_unknown  default_no  default_unknown  default_yes  \\\n",
       "7660                   0           1                0            0   \n",
       "7253                   0           1                0            0   \n",
       "23131                  0           1                0            0   \n",
       "2861                   0           0                1            0   \n",
       "\n",
       "       housing_no  housing_unknown  housing_yes  loan_no  loan_unknown  \\\n",
       "7660            1                0            0        1             0   \n",
       "7253            0                0            1        1             0   \n",
       "23131           0                0            1        1             0   \n",
       "2861            0                0            1        0             0   \n",
       "\n",
       "       loan_yes  contact_cellular  contact_telephone  month_apr  month_aug  \\\n",
       "7660          0                 1                  0          0          0   \n",
       "7253          0                 1                  0          0          1   \n",
       "23131         0                 1                  0          0          0   \n",
       "2861          1                 1                  0          0          0   \n",
       "\n",
       "       month_dec  month_jul  month_jun  month_mar  month_may  month_nov  \\\n",
       "7660           0          0          0          0          1          0   \n",
       "7253           0          0          0          0          0          0   \n",
       "23131          1          0          0          0          0          0   \n",
       "2861           0          0          0          0          1          0   \n",
       "\n",
       "       month_oct  month_sep  day_of_week_fri  day_of_week_mon  \\\n",
       "7660           0          0                0                1   \n",
       "7253           0          0                1                0   \n",
       "23131          0          0                0                0   \n",
       "2861           0          0                0                0   \n",
       "\n",
       "       day_of_week_thu  day_of_week_tue  day_of_week_wed  poutcome_failure  \\\n",
       "7660                 0                0                0                 0   \n",
       "7253                 0                0                0                 0   \n",
       "23131                0                0                1                 0   \n",
       "2861                 0                0                1                 0   \n",
       "\n",
       "       poutcome_nonexistent  poutcome_success  \n",
       "7660                      1                 0  \n",
       "7253                      1                 0  \n",
       "23131                     1                 0  \n",
       "2861                      1                 0  "
      ]
     },
     "execution_count": 37,
     "metadata": {},
     "output_type": "execute_result"
    }
   ],
   "source": [
    "df_model.sample(4)"
   ]
  },
  {
   "cell_type": "code",
   "execution_count": 38,
   "metadata": {},
   "outputs": [
    {
     "data": {
      "text/plain": [
       "(41188, 62)"
      ]
     },
     "execution_count": 38,
     "metadata": {},
     "output_type": "execute_result"
    }
   ],
   "source": [
    "df_model.shape"
   ]
  },
  {
   "cell_type": "markdown",
   "metadata": {},
   "source": [
    "----------------"
   ]
  },
  {
   "cell_type": "code",
   "execution_count": 39,
   "metadata": {},
   "outputs": [
    {
     "name": "stdout",
     "output_type": "stream",
     "text": [
      "sklearn: 0.22\n"
     ]
    }
   ],
   "source": [
    "import sklearn\n",
    "print('sklearn: %s' % sklearn.__version__)"
   ]
  },
  {
   "cell_type": "code",
   "execution_count": 40,
   "metadata": {},
   "outputs": [],
   "source": [
    "from sklearn.model_selection import train_test_split\n",
    "X = df_model.loc[:, df_model.columns != 'y'].copy()\n",
    "y = df_model.loc[:, df_model.columns == 'y'].copy()\n",
    "X_train, X_test, y_train, y_test = train_test_split(X, y, test_size=0.3, random_state=0)"
   ]
  },
  {
   "cell_type": "code",
   "execution_count": 41,
   "metadata": {},
   "outputs": [
    {
     "data": {
      "text/plain": [
       "LogisticRegression(C=1.0, class_weight=None, dual=False, fit_intercept=True,\n",
       "                   intercept_scaling=1, l1_ratio=None, max_iter=100,\n",
       "                   multi_class='auto', n_jobs=None, penalty='l2',\n",
       "                   random_state=None, solver='liblinear', tol=0.0001, verbose=0,\n",
       "                   warm_start=False)"
      ]
     },
     "execution_count": 41,
     "metadata": {},
     "output_type": "execute_result"
    }
   ],
   "source": [
    "from sklearn.linear_model import LogisticRegression\n",
    "logreg = LogisticRegression(solver='liblinear')\n",
    "logreg.fit(X_train, y_train.values.ravel())"
   ]
  },
  {
   "cell_type": "code",
   "execution_count": 67,
   "metadata": {
    "collapsed": true
   },
   "outputs": [
    {
     "data": {
      "text/plain": [
       "array([[ 4.91488803e-03,  4.46402301e-03,  1.68458853e-02,\n",
       "        -1.55127092e-03, -5.16335331e-02, -2.02980163e-01,\n",
       "         3.35179125e-01,  3.66088024e-02, -2.22893643e-01,\n",
       "        -6.18453046e-03,  5.36396748e-02, -9.40133389e-02,\n",
       "        -8.55756657e-03, -3.95920865e-03,  3.27663653e-03,\n",
       "         3.69522865e-02, -5.96461861e-03, -1.92854076e-02,\n",
       "         2.89539316e-02,  3.34931707e-03,  6.89998271e-03,\n",
       "         1.78973126e-03,  5.78390948e-04, -6.22473156e-02,\n",
       "         6.50160051e-02, -2.65660268e-04, -8.07503876e-02,\n",
       "        -2.91345406e-03,  1.01113695e-03,  5.55902272e-03,\n",
       "         7.36990922e-02,  6.47601002e-03,  8.27008394e-02,\n",
       "        -7.96054368e-02, -1.39824380e-05,  5.20886698e-03,\n",
       "        -1.00037354e-03, -1.12707324e-03,  1.20817789e-02,\n",
       "        -1.00037354e-03, -7.99998521e-03,  9.28828042e-02,\n",
       "        -8.98013840e-02,  1.95156330e-02,  3.45823499e-02,\n",
       "        -1.70324108e-03,  5.67094864e-02,  5.57508976e-02,\n",
       "         6.27813914e-02, -2.37857774e-01, -1.49787973e-02,\n",
       "         1.82446512e-02,  1.00368231e-02, -1.38721818e-02,\n",
       "        -2.49796200e-02, -1.76986844e-04,  1.44312021e-02,\n",
       "         2.76790068e-02, -6.30000288e-02,  5.55166937e-02,\n",
       "         1.05647553e-02]])"
      ]
     },
     "execution_count": 67,
     "metadata": {},
     "output_type": "execute_result"
    }
   ],
   "source": [
    "logreg.coef_"
   ]
  },
  {
   "cell_type": "code",
   "execution_count": 75,
   "metadata": {},
   "outputs": [
    {
     "data": {
      "text/plain": [
       "{'C': 1.0,\n",
       " 'class_weight': None,\n",
       " 'dual': False,\n",
       " 'fit_intercept': True,\n",
       " 'intercept_scaling': 1,\n",
       " 'l1_ratio': None,\n",
       " 'max_iter': 100,\n",
       " 'multi_class': 'auto',\n",
       " 'n_jobs': None,\n",
       " 'penalty': 'l2',\n",
       " 'random_state': None,\n",
       " 'solver': 'liblinear',\n",
       " 'tol': 0.0001,\n",
       " 'verbose': 0,\n",
       " 'warm_start': False}"
      ]
     },
     "execution_count": 75,
     "metadata": {},
     "output_type": "execute_result"
    }
   ],
   "source": [
    "logreg.get_params()"
   ]
  },
  {
   "cell_type": "code",
   "execution_count": 66,
   "metadata": {},
   "outputs": [
    {
     "name": "stdout",
     "output_type": "stream",
     "text": [
      "Accuracy of logistic regression classifier on test set: 0.91\n"
     ]
    }
   ],
   "source": [
    "Model_1_Accuracy=logreg.score(X_test, y_test)\n",
    "#Model_1_Accuracy\n",
    "print('Accuracy of logistic regression classifier on test set: {:.2f}'.format(Model_1_Accuracy))"
   ]
  },
  {
   "cell_type": "markdown",
   "metadata": {},
   "source": [
    "--------------"
   ]
  },
  {
   "cell_type": "markdown",
   "metadata": {},
   "source": [
    "## Confusion Matrix == Accuracy"
   ]
  },
  {
   "cell_type": "code",
   "execution_count": 188,
   "metadata": {},
   "outputs": [
    {
     "name": "stdout",
     "output_type": "stream",
     "text": [
      "[[10718   263]\n",
      " [  811   565]]\n"
     ]
    }
   ],
   "source": [
    "from sklearn.metrics import confusion_matrix\n",
    "y_pred = logreg.predict(X_test)\n",
    "confusion_mat = confusion_matrix(y_test, y_pred)\n",
    "print(confusion_mat)"
   ]
  },
  {
   "cell_type": "raw",
   "metadata": {},
   "source": [
    "                positive pred     negative pred\n",
    "positive label:    [ true_p          false_n  \n",
    "negative label:     false_p           true_n ]\n",
    "\n",
    "false positive = negative which is labeled as positive"
   ]
  },
  {
   "cell_type": "markdown",
   "metadata": {},
   "source": [
    "__Accuracy: % of correct prediction wrt all predictions__  \n",
    "(10718+565 correct predictions and 811+263 incorrect predictions in the example)  \n",
    "__Precision: Koliko od onoga sta sam ja stavio da je 0 je stvarno 0?__   \n",
    "(100 sam stavio da su 0, a 90 je stvarno jer 10 su 1 koje sam krivo rekao da su 0) --> 90%  \n",
    "__Recall: Koliki % od stvarnih 0 sam dobro stavio da su 0?__   \n",
    "(poslao sam 100 0, a stavio sam 80 da su 0) --> 80%  \n",
    "__F-beta score is weighted harmonic mean of the precision and recall, where an F-beta weights the recall more than the precision by a factor of beta. The score reaches its best value at 1 and worst score at 0.__ \n"
   ]
  },
  {
   "cell_type": "code",
   "execution_count": 59,
   "metadata": {},
   "outputs": [
    {
     "data": {
      "text/plain": [
       "0.9130857004127215"
      ]
     },
     "execution_count": 59,
     "metadata": {},
     "output_type": "execute_result"
    }
   ],
   "source": [
    "(confusion_matrix[0][0]+confusion_matrix[1][1])/confusion_matrix.sum()"
   ]
  },
  {
   "cell_type": "markdown",
   "metadata": {},
   "source": [
    "## classification_report"
   ]
  },
  {
   "cell_type": "code",
   "execution_count": 61,
   "metadata": {},
   "outputs": [
    {
     "name": "stdout",
     "output_type": "stream",
     "text": [
      "              precision    recall  f1-score   support\n",
      "\n",
      "           0       0.93      0.98      0.95     10981\n",
      "           1       0.68      0.41      0.51      1376\n",
      "\n",
      "    accuracy                           0.91     12357\n",
      "   macro avg       0.81      0.69      0.73     12357\n",
      "weighted avg       0.90      0.91      0.90     12357\n",
      "\n"
     ]
    }
   ],
   "source": [
    "from sklearn.metrics import classification_report\n",
    "print(classification_report(y_test, y_pred))"
   ]
  },
  {
   "cell_type": "markdown",
   "metadata": {},
   "source": [
    "__The precision is the ratio tp / (tp + fp)__ where tp is the number of true positives and fp the number of false positives.   \n",
    "0=> 10718/(10718+811)=>10718/11529=0.929  \n",
    "1=> 565/(565+263)=>565/828=0.682\n",
    "\n",
    "__The precision is intuitively the ability of the classifier to not label a sample as positive if it is negative.__ \n",
    "\n",
    "\n",
    "__Koliko od onoga sta sam ja stavio da je 0 je stvarno 0?__\n",
    "\n"
   ]
  },
  {
   "cell_type": "code",
   "execution_count": 62,
   "metadata": {},
   "outputs": [
    {
     "name": "stdout",
     "output_type": "stream",
     "text": [
      "              precision    recall  f1-score   support\n",
      "\n",
      "           0       0.93      0.98      0.95     10981\n",
      "           1       0.68      0.41      0.51      1376\n",
      "\n",
      "    accuracy                           0.91     12357\n",
      "   macro avg       0.81      0.69      0.73     12357\n",
      "weighted avg       0.90      0.91      0.90     12357\n",
      "\n"
     ]
    }
   ],
   "source": [
    "print(classification_report(y_test, y_pred))"
   ]
  },
  {
   "cell_type": "markdown",
   "metadata": {},
   "source": [
    "__The recall is the ratio tp / (tp + fn)__  where tp is the number of true positives and fn the number of false negatives.  \n",
    "__The recall is intuitively the ability of the classifier to find all the positive samples.__  "
   ]
  },
  {
   "cell_type": "markdown",
   "metadata": {},
   "source": [
    "__The F-beta score can be interpreted as a weighted harmonic mean of the precision and recall, where an F-beta score reaches its best value at 1 and worst score at 0.__  \n",
    "__The F-beta score weights the recall more than the precision by a factor of beta.__  \n",
    "beta = 1.0 means recall and precision are equally important."
   ]
  },
  {
   "cell_type": "markdown",
   "metadata": {},
   "source": [
    "## ROC Curve --> receiver operating characteristic (ROC)\n",
    "https://towardsdatascience.com/understanding-auc-roc-curve-68b2303cc9c5"
   ]
  },
  {
   "cell_type": "code",
   "execution_count": 126,
   "metadata": {},
   "outputs": [],
   "source": [
    "from sklearn.metrics import roc_auc_score\n",
    "from sklearn.metrics import roc_curve\n",
    "logit_roc_auc = roc_auc_score(y_test, logreg.predict(X_test))\n",
    "fpr, tpr, thresholds = roc_curve(y_test, logreg.predict_proba(X_test)[:,1])\n"
   ]
  },
  {
   "cell_type": "markdown",
   "metadata": {},
   "source": [
    "Predict will give either 0 or 1 as output  \n",
    "Predict_proba will give the only probability of 1.  \n",
    "https://discuss.analyticsvidhya.com/t/what-is-the-difference-between-predict-and-predict-proba/67376"
   ]
  },
  {
   "cell_type": "code",
   "execution_count": 119,
   "metadata": {},
   "outputs": [
    {
     "data": {
      "text/plain": [
       "(array([0.00000000e+00, 9.10663874e-05, 1.82132775e-04, ...,\n",
       "        8.77606775e-01, 8.77606775e-01, 1.00000000e+00]),\n",
       " array([0.        , 0.        , 0.        , ..., 0.99927326, 1.        ,\n",
       "        1.        ]),\n",
       " array([1.99999972, 0.99999972, 0.99995684, ..., 0.01120703, 0.011207  ,\n",
       "        0.00492507]))"
      ]
     },
     "execution_count": 119,
     "metadata": {},
     "output_type": "execute_result"
    }
   ],
   "source": [
    "fpr, tpr, thresholds"
   ]
  },
  {
   "cell_type": "code",
   "execution_count": 120,
   "metadata": {},
   "outputs": [
    {
     "data": {
      "text/plain": [
       "<matplotlib.legend.Legend at 0x11d577a90>"
      ]
     },
     "execution_count": 120,
     "metadata": {},
     "output_type": "execute_result"
    },
    {
     "data": {
      "image/png": "[encoded data removed]",
      "text/plain": [
       "<Figure size 432x288 with 1 Axes>"
      ]
     },
     "metadata": {
      "needs_background": "light"
     },
     "output_type": "display_data"
    }
   ],
   "source": [
    "plt.figure()\n",
    "plt.plot(fpr, tpr, label='Logistic Regression (area = %0.2f)' % logit_roc_auc)\n",
    "plt.plot([0, 1], [0, 1],'r--')\n",
    "plt.xlim([0.0, 1.0])\n",
    "plt.ylim([0.0, 1.05])\n",
    "plt.xlabel('False Positive Rate')\n",
    "plt.ylabel('True Positive Rate')\n",
    "plt.title('Receiver operating characteristic')\n",
    "plt.legend(loc=\"lower right\")\n",
    "#plt.savefig('Log_ROC')\n",
    "#plt.show()"
   ]
  },
  {
   "cell_type": "markdown",
   "metadata": {},
   "source": [
    "The dotted line represents the ROC curve of a purely random classifier; a good classifier stays as far away from that line as possible (toward the top-left corner).  "
   ]
  },
  {
   "cell_type": "raw",
   "metadata": {},
   "source": [
    "https://towardsdatascience.com/understanding-auc-roc-curve-68b2303cc9c5"
   ]
  },
  {
   "cell_type": "markdown",
   "metadata": {},
   "source": [
    "## Statistic on the model"
   ]
  },
  {
   "cell_type": "code",
   "execution_count": 121,
   "metadata": {},
   "outputs": [],
   "source": [
    "import statsmodels.api as sm\n",
    "logit_model=sm.Logit(y_train,X_train)"
   ]
  },
  {
   "cell_type": "code",
   "execution_count": 123,
   "metadata": {},
   "outputs": [
    {
     "data": {
      "text/plain": [
       "(28831, 61)"
      ]
     },
     "execution_count": 123,
     "metadata": {},
     "output_type": "execute_result"
    }
   ],
   "source": [
    "X_train.shape"
   ]
  },
  {
   "cell_type": "code",
   "execution_count": 125,
   "metadata": {},
   "outputs": [
    {
     "name": "stdout",
     "output_type": "stream",
     "text": [
      "Warning: Maximum number of iterations has been exceeded.\n",
      "         Current function value: 0.209557\n",
      "         Iterations: 30\n",
      "                                        Results: Logit\n",
      "==============================================================================================\n",
      "Model:                         Logit                     Pseudo R-squared:          0.407     \n",
      "Dependent Variable:            y                         AIC:                       12185.4599\n",
      "Date:                          2019-12-26 11:52          BIC:                       12607.1895\n",
      "No. Observations:              28831                     Log-Likelihood:            -6041.7   \n",
      "Df Model:                      50                        LL-Null:                   -10182.   \n",
      "Df Residuals:                  28780                     LLR p-value:               0.0000    \n",
      "Converged:                     0.0000                    Scale:                     1.0000    \n",
      "No. Iterations:                30.0000                                                        \n",
      "----------------------------------------------------------------------------------------------\n",
      "                               Coef.     Std.Err.      z     P>|z|      [0.025       0.975]   \n",
      "----------------------------------------------------------------------------------------------\n",
      "age                             0.0008       0.0029   0.2718 0.7858       -0.0049       0.0064\n",
      "duration                        0.0047       0.0001  52.6880 0.0000        0.0045       0.0048\n",
      "campaign                       -0.0334       0.0136  -2.4617 0.0138       -0.0600      -0.0068\n",
      "pdays                          -0.0011       0.0003  -4.0753 0.0000       -0.0016      -0.0005\n",
      "previous                       -0.0719       0.0706  -1.0189 0.3083       -0.2103       0.0664\n",
      "emp_var_rate                   -1.8328       0.1706 -10.7454 0.0000       -2.1671      -1.4985\n",
      "cons_price_idx                  2.3539       0.3015   7.8060 0.0000        1.7629       2.9449\n",
      "cons_conf_idx                   0.0259       0.0092   2.8196 0.0048        0.0079       0.0440\n",
      "euribor3m                       0.2522       0.1531   1.6481 0.0993       -0.0477       0.5522\n",
      "nr_employed                     0.0083       0.0037   2.2340 0.0255        0.0010       0.0156\n",
      "job_admin.                     -8.5933          nan      nan    nan           nan          nan\n",
      "job_blue-collar                -8.8562          nan      nan    nan           nan          nan\n",
      "job_entrepreneur               -8.8231          nan      nan    nan           nan          nan\n",
      "job_housemaid                  -8.7716          nan      nan    nan           nan          nan\n",
      "job_management                 -8.6324          nan      nan    nan           nan          nan\n",
      "job_retired                    -8.3159          nan      nan    nan           nan          nan\n",
      "job_self-employed              -8.9116          nan      nan    nan           nan          nan\n",
      "job_services                   -8.7187          nan      nan    nan           nan          nan\n",
      "job_student                    -8.3697          nan      nan    nan           nan          nan\n",
      "job_technician                 -8.6875          nan      nan    nan           nan          nan\n",
      "job_unemployed                 -8.5734          nan      nan    nan           nan          nan\n",
      "job_unknown                    -8.4935          nan      nan    nan           nan          nan\n",
      "marital_divorced              -25.9325          nan      nan    nan           nan          nan\n",
      "marital_married               -25.9735          nan      nan    nan           nan          nan\n",
      "marital_single                -25.9021          nan      nan    nan           nan          nan\n",
      "marital_unknown               -25.9306          nan      nan    nan           nan          nan\n",
      "education_Basic               -17.5496          nan      nan    nan           nan          nan\n",
      "education_high.school         -17.4770          nan      nan    nan           nan          nan\n",
      "education_illiterate          -16.4310          nan      nan    nan           nan          nan\n",
      "education_professional.course -17.4398          nan      nan    nan           nan          nan\n",
      "education_university.degree   -17.3888          nan      nan    nan           nan          nan\n",
      "education_unknown             -17.4549          nan      nan    nan           nan          nan\n",
      "default_no                    -30.6794  558311.6404  -0.0001 1.0000 -1094301.3868 1094240.0280\n",
      "default_unknown               -31.0175  536544.2751  -0.0001 1.0000 -1051638.4728 1051576.4377\n",
      "default_yes                   -42.0426  496592.4937  -0.0001 0.9999  -973345.4452  973261.3600\n",
      "housing_no                    -34.5793 1053219.9073  -0.0000 1.0000 -2064307.6654 2064238.5068\n",
      "housing_unknown               -34.5924          nan      nan    nan           nan          nan\n",
      "housing_yes                   -34.6119 1123130.3937  -0.0000 1.0000 -2201329.7334 2201260.5096\n",
      "loan_no                       -34.5396  291379.8821  -0.0001 0.9999  -571128.6145  571059.5352\n",
      "loan_unknown                  -34.5940          nan      nan    nan           nan          nan\n",
      "loan_yes                      -34.5948          nan      nan    nan           nan          nan\n",
      "contact_cellular              -48.8315          nan      nan    nan           nan          nan\n",
      "contact_telephone             -49.4597          nan      nan    nan           nan          nan\n",
      "month_apr                     -10.6348          nan      nan    nan           nan          nan\n",
      "month_aug                      -9.7361          nan      nan    nan           nan          nan\n",
      "month_dec                     -10.6051          nan      nan    nan           nan          nan\n",
      "month_jul                     -10.5026          nan      nan    nan           nan          nan\n",
      "month_jun                     -11.1624          nan      nan    nan           nan          nan\n",
      "month_mar                      -8.6459          nan      nan    nan           nan          nan\n",
      "month_may                     -11.0325          nan      nan    nan           nan          nan\n",
      "month_nov                     -10.9936          nan      nan    nan           nan          nan\n",
      "month_oct                     -10.3398          nan      nan    nan           nan          nan\n",
      "month_sep                     -10.0209          nan      nan    nan           nan          nan\n",
      "day_of_week_fri               -20.1958 1954768.0222  -0.0000 1.0000 -3831295.1175 3831254.7259\n",
      "day_of_week_mon               -20.2854 1954368.3967  -0.0000 1.0000 -3830511.9556 3830471.3847\n",
      "day_of_week_thu               -20.1581 1955966.4088  -0.0000 1.0000 -3833643.8742 3833603.5581\n",
      "day_of_week_tue               -20.0987 1955167.5660  -0.0000 1.0000 -3832078.1118 3832037.9145\n",
      "day_of_week_wed               -19.9754 1954768.0222  -0.0000 1.0000 -3831294.8971 3831254.9463\n",
      "poutcome_failure              -34.4779  970667.8621  -0.0000 1.0000 -1902508.5286 1902439.5727\n",
      "poutcome_nonexistent          -34.1191  970667.8621  -0.0000 1.0000 -1902508.1697 1902439.9316\n",
      "poutcome_success              -33.6956  970667.8621  -0.0000 1.0000 -1902507.7463 1902440.3550\n",
      "==============================================================================================\n",
      "\n"
     ]
    },
    {
     "name": "stderr",
     "output_type": "stream",
     "text": [
      "/Users/igor.arambasic/anaconda3/lib/python3.6/site-packages/statsmodels/base/model.py:512: ConvergenceWarning: Maximum Likelihood optimization failed to converge. Check mle_retvals\n",
      "  \"Check mle_retvals\", ConvergenceWarning)\n"
     ]
    }
   ],
   "source": [
    "result=logit_model.fit(maxiter=30)\n",
    "print(result.summary2())"
   ]
  },
  {
   "cell_type": "markdown",
   "metadata": {},
   "source": [
    "Looks like our model is really bad!!!  \n",
    "WE did NOT use Feature Selection...  \n",
    "\n",
    "https://machinelearningmastery.com/feature-selection-in-python-with-scikit-learn/"
   ]
  },
  {
   "cell_type": "code",
   "execution_count": 145,
   "metadata": {},
   "outputs": [],
   "source": [
    "from sklearn.feature_selection import RFE\n",
    "#Feature ranking with recursive feature elimination.\n",
    "rfe = RFE(logreg, 25)"
   ]
  },
  {
   "cell_type": "code",
   "execution_count": 146,
   "metadata": {},
   "outputs": [],
   "source": [
    "#logreg.fit(X_train, y_train.values.ravel())\n",
    "rfe_fit = rfe.fit(X_train, y_train.values.ravel())\n"
   ]
  },
  {
   "cell_type": "code",
   "execution_count": 151,
   "metadata": {},
   "outputs": [
    {
     "data": {
      "text/plain": [
       "sklearn.feature_selection._rfe.RFE"
      ]
     },
     "execution_count": 151,
     "metadata": {},
     "output_type": "execute_result"
    }
   ],
   "source": [
    "type(rfe_fit)"
   ]
  },
  {
   "cell_type": "code",
   "execution_count": 147,
   "metadata": {},
   "outputs": [
    {
     "data": {
      "text/plain": [
       "25"
      ]
     },
     "execution_count": 147,
     "metadata": {},
     "output_type": "execute_result"
    }
   ],
   "source": [
    "rfe_fit.n_features_"
   ]
  },
  {
   "cell_type": "code",
   "execution_count": 150,
   "metadata": {},
   "outputs": [
    {
     "data": {
      "text/plain": [
       "array([22, 26,  8, 29,  1, 12, 10, 13,  1, 18,  1,  1,  1,  5, 27,  1,  9,\n",
       "        4,  1, 28,  1, 21, 34, 15, 14, 35,  1, 24, 31, 19, 17,  1,  1,  1,\n",
       "       37,  3, 32, 30, 20, 33, 23,  7,  1,  1,  1,  1, 11,  6,  1,  1,  1,\n",
       "        1, 25,  2,  1, 36, 16,  1,  1,  1,  1])"
      ]
     },
     "execution_count": 150,
     "metadata": {},
     "output_type": "execute_result"
    }
   ],
   "source": [
    "#the ones with position 1 are the top N features where N is the desired number of features put in RFE parameter\n",
    "rfe_fit.ranking_"
   ]
  },
  {
   "cell_type": "code",
   "execution_count": 157,
   "metadata": {},
   "outputs": [
    {
     "data": {
      "text/plain": [
       "array([False, False, False, False,  True, False, False, False,  True,\n",
       "       False,  True,  True,  True, False, False,  True, False, False,\n",
       "        True, False,  True, False, False, False, False, False,  True,\n",
       "       False, False, False, False,  True,  True,  True, False, False,\n",
       "       False, False, False, False, False, False,  True,  True,  True,\n",
       "        True, False, False,  True,  True,  True,  True, False, False,\n",
       "        True, False, False,  True,  True,  True,  True])"
      ]
     },
     "execution_count": 157,
     "metadata": {},
     "output_type": "execute_result"
    }
   ],
   "source": [
    "#All top N features are True\n",
    "rfe_fit.support_\n"
   ]
  },
  {
   "cell_type": "code",
   "execution_count": 175,
   "metadata": {},
   "outputs": [],
   "source": [
    "cols=X_train.columns[rfe.support_]\n",
    "X_train_25=X_train[cols]\n"
   ]
  },
  {
   "cell_type": "code",
   "execution_count": 177,
   "metadata": {},
   "outputs": [
    {
     "data": {
      "text/plain": [
       "LogisticRegression(C=1.0, class_weight=None, dual=False, fit_intercept=True,\n",
       "                   intercept_scaling=1, l1_ratio=None, max_iter=100,\n",
       "                   multi_class='auto', n_jobs=None, penalty='l2',\n",
       "                   random_state=None, solver='liblinear', tol=0.0001, verbose=0,\n",
       "                   warm_start=False)"
      ]
     },
     "execution_count": 177,
     "metadata": {},
     "output_type": "execute_result"
    }
   ],
   "source": [
    "logreg_25 = LogisticRegression(solver='liblinear')\n",
    "logreg_25.fit(X_train_25, y_train.values.ravel())"
   ]
  },
  {
   "cell_type": "code",
   "execution_count": 191,
   "metadata": {},
   "outputs": [
    {
     "name": "stdout",
     "output_type": "stream",
     "text": [
      "[[10864   117]\n",
      " [ 1099   277]]\n"
     ]
    }
   ],
   "source": [
    "y_pred_25 = logreg_25.predict(X_test[cols])\n",
    "confusion_mat_25 = confusion_matrix(y_test, y_pred_25)\n",
    "print(confusion_mat_25)"
   ]
  },
  {
   "cell_type": "code",
   "execution_count": 192,
   "metadata": {},
   "outputs": [
    {
     "name": "stdout",
     "output_type": "stream",
     "text": [
      "              precision    recall  f1-score   support\n",
      "\n",
      "           0       0.91      0.99      0.95     10981\n",
      "           1       0.70      0.20      0.31      1376\n",
      "\n",
      "    accuracy                           0.90     12357\n",
      "   macro avg       0.81      0.60      0.63     12357\n",
      "weighted avg       0.89      0.90      0.88     12357\n",
      "\n"
     ]
    }
   ],
   "source": [
    "print(classification_report(y_test, y_pred_25))"
   ]
  },
  {
   "cell_type": "code",
   "execution_count": 195,
   "metadata": {},
   "outputs": [
    {
     "data": {
      "text/plain": [
       "<matplotlib.legend.Legend at 0x12022b208>"
      ]
     },
     "execution_count": 195,
     "metadata": {},
     "output_type": "execute_result"
    },
    {
     "data": {
      "image/png": "[encoded data removed]",
      "text/plain": [
       "<Figure size 432x288 with 1 Axes>"
      ]
     },
     "metadata": {
      "needs_background": "light"
     },
     "output_type": "display_data"
    }
   ],
   "source": [
    "from sklearn.metrics import roc_auc_score\n",
    "from sklearn.metrics import roc_curve\n",
    "logit_roc_auc = roc_auc_score(y_test, logreg_25.predict(X_test[cols]))\n",
    "fpr, tpr, thresholds = roc_curve(y_test, logreg_25.predict_proba(X_test[cols])[:,1])\n",
    "plt.figure()\n",
    "plt.plot(fpr, tpr, label='Logistic Regression (area = %0.2f)' % logit_roc_auc)\n",
    "plt.plot([0, 1], [0, 1],'r--')\n",
    "plt.xlim([0.0, 1.0])\n",
    "plt.ylim([0.0, 1.05])\n",
    "plt.xlabel('False Positive Rate')\n",
    "plt.ylabel('True Positive Rate')\n",
    "plt.title('Receiver operating characteristic')\n",
    "plt.legend(loc=\"lower right\")\n",
    "#plt.savefig('Log_ROC')\n",
    "#plt.show()"
   ]
  },
  {
   "cell_type": "code",
   "execution_count": 198,
   "metadata": {},
   "outputs": [
    {
     "name": "stdout",
     "output_type": "stream",
     "text": [
      "Warning: Maximum number of iterations has been exceeded.\n",
      "         Current function value: 0.282982\n",
      "         Iterations: 30\n",
      "                               Results: Logit\n",
      "============================================================================\n",
      "Model:                   Logit               Pseudo R-squared:    0.199     \n",
      "Dependent Variable:      y                   AIC:                 16367.3009\n",
      "Date:                    2019-12-26 12:32    BIC:                 16574.0311\n",
      "No. Observations:        28831               Log-Likelihood:      -8158.7   \n",
      "Df Model:                24                  LL-Null:             -10182.   \n",
      "Df Residuals:            28806               LLR p-value:         0.0000    \n",
      "Converged:               0.0000              Scale:               1.0000    \n",
      "No. Iterations:          30.0000                                            \n",
      "----------------------------------------------------------------------------\n",
      "                      Coef.    Std.Err.    z     P>|z|    [0.025     0.975] \n",
      "----------------------------------------------------------------------------\n",
      "previous               0.1842    0.0618   2.9822 0.0029     0.0631    0.3052\n",
      "euribor3m             -0.4847    0.0155 -31.1819 0.0000    -0.5152   -0.4542\n",
      "job_admin.             0.1223    0.0520   2.3523 0.0187     0.0204    0.2241\n",
      "job_blue-collar       -0.0945    0.0719  -1.3144 0.1887    -0.2355    0.0464\n",
      "job_entrepreneur      -0.0815    0.1271  -0.6407 0.5217    -0.3306    0.1677\n",
      "job_retired            0.4627    0.0872   5.3038 0.0000     0.2917    0.6337\n",
      "job_student            0.4546    0.1075   4.2276 0.0000     0.2439    0.6654\n",
      "job_unemployed         0.1018    0.1246   0.8168 0.4140    -0.1424    0.3459\n",
      "education_Basic       -0.0863    0.0597  -1.4456 0.1483    -0.2034    0.0307\n",
      "education_unknown      0.0990    0.0994   0.9960 0.3193    -0.0958    0.2938\n",
      "default_no            12.4264 2087.7446   0.0060 0.9953 -4079.4778 4104.3306\n",
      "default_unknown       12.1428 2087.7446   0.0058 0.9954 -4079.7614 4104.0471\n",
      "contact_telephone     -0.1819    0.0569  -3.1994 0.0014    -0.2934   -0.0705\n",
      "month_apr             -0.4884    0.0758  -6.4410 0.0000    -0.6371   -0.3398\n",
      "month_aug             -0.3172    0.0689  -4.6053 0.0000    -0.4521   -0.1822\n",
      "month_dec             -0.1247    0.1924  -0.6481 0.5169    -0.5019    0.2524\n",
      "month_mar              0.5022    0.1173   4.2807 0.0000     0.2723    0.7321\n",
      "month_may             -1.1166    0.0610 -18.3056 0.0000    -1.2361   -0.9970\n",
      "month_nov             -0.3835    0.0770  -4.9816 0.0000    -0.5344   -0.2326\n",
      "month_oct              0.1670    0.1091   1.5310 0.1258    -0.0468    0.3808\n",
      "day_of_week_mon       -0.2313    0.0547  -4.2314 0.0000    -0.3384   -0.1242\n",
      "day_of_week_wed        0.1383    0.0530   2.6090 0.0091     0.0344    0.2422\n",
      "poutcome_failure     -13.1772 2087.7446  -0.0063 0.9950 -4105.0814 4078.7270\n",
      "poutcome_nonexistent -12.5906 2087.7446  -0.0060 0.9952 -4104.4948 4079.3137\n",
      "poutcome_success     -11.3951 2087.7446  -0.0055 0.9956 -4103.2993 4080.5092\n",
      "============================================================================\n",
      "\n"
     ]
    },
    {
     "name": "stderr",
     "output_type": "stream",
     "text": [
      "/Users/igor.arambasic/anaconda3/lib/python3.6/site-packages/statsmodels/base/model.py:512: ConvergenceWarning: Maximum Likelihood optimization failed to converge. Check mle_retvals\n",
      "  \"Check mle_retvals\", ConvergenceWarning)\n"
     ]
    }
   ],
   "source": [
    "import statsmodels.api as sm\n",
    "logit_model=sm.Logit(y_train,X_train[cols])\n",
    "result=logit_model.fit(maxiter=30)\n",
    "print(result.summary2())"
   ]
  },
  {
   "cell_type": "code",
   "execution_count": 199,
   "metadata": {},
   "outputs": [
    {
     "data": {
      "text/plain": [
       "job_blue-collar         0.188719\n",
       "job_entrepreneur        0.521694\n",
       "job_unemployed          0.414027\n",
       "education_Basic         0.148288\n",
       "education_unknown       0.319268\n",
       "default_no              0.995251\n",
       "default_unknown         0.995359\n",
       "month_dec               0.516919\n",
       "month_oct               0.125763\n",
       "poutcome_failure        0.994964\n",
       "poutcome_nonexistent    0.995188\n",
       "poutcome_success        0.995645\n",
       "dtype: float64"
      ]
     },
     "execution_count": 199,
     "metadata": {},
     "output_type": "execute_result"
    }
   ],
   "source": [
    "result.pvalues[result.pvalues>0.05]"
   ]
  },
  {
   "cell_type": "code",
   "execution_count": 200,
   "metadata": {},
   "outputs": [
    {
     "data": {
      "text/plain": [
       "previous              2.861980e-03\n",
       "euribor3m            1.872251e-213\n",
       "job_admin.            1.865756e-02\n",
       "job_retired           1.134140e-07\n",
       "job_student           2.361947e-05\n",
       "contact_telephone     1.377004e-03\n",
       "month_apr             1.186536e-10\n",
       "month_aug             4.119230e-06\n",
       "month_mar             1.862836e-05\n",
       "month_may             7.468480e-75\n",
       "month_nov             6.307413e-07\n",
       "day_of_week_mon       2.322319e-05\n",
       "day_of_week_wed       9.081563e-03\n",
       "dtype: float64"
      ]
     },
     "execution_count": 200,
     "metadata": {},
     "output_type": "execute_result"
    }
   ],
   "source": [
    "result.pvalues[result.pvalues<0.05]"
   ]
  },
  {
   "cell_type": "code",
   "execution_count": 204,
   "metadata": {},
   "outputs": [],
   "source": [
    "X_train_13=X_train[result.pvalues[result.pvalues<0.05].index]"
   ]
  },
  {
   "cell_type": "code",
   "execution_count": 207,
   "metadata": {},
   "outputs": [
    {
     "name": "stdout",
     "output_type": "stream",
     "text": [
      "[[10874   107]\n",
      " [ 1231   145]]\n"
     ]
    }
   ],
   "source": [
    "cols=result.pvalues[result.pvalues<0.05].index\n",
    "logreg_13 = LogisticRegression(solver='liblinear')\n",
    "logreg_13.fit(X_train_13, y_train.values.ravel())\n",
    "y_pred_13 = logreg_13.predict(X_test[cols])\n",
    "confusion_mat_13 = confusion_matrix(y_test, y_pred_13)\n",
    "print(confusion_mat_13)"
   ]
  },
  {
   "cell_type": "code",
   "execution_count": 209,
   "metadata": {},
   "outputs": [
    {
     "name": "stdout",
     "output_type": "stream",
     "text": [
      "              precision    recall  f1-score   support\n",
      "\n",
      "           0       0.90      0.99      0.94     10981\n",
      "           1       0.58      0.11      0.18      1376\n",
      "\n",
      "    accuracy                           0.89     12357\n",
      "   macro avg       0.74      0.55      0.56     12357\n",
      "weighted avg       0.86      0.89      0.86     12357\n",
      "\n"
     ]
    }
   ],
   "source": [
    "print(classification_report(y_test, y_pred_13))"
   ]
  },
  {
   "cell_type": "code",
   "execution_count": 211,
   "metadata": {},
   "outputs": [
    {
     "data": {
      "text/plain": [
       "<matplotlib.legend.Legend at 0x120a89320>"
      ]
     },
     "execution_count": 211,
     "metadata": {},
     "output_type": "execute_result"
    },
    {
     "data": {
      "image/png": "[encoded data removed]",
      "text/plain": [
       "<Figure size 432x288 with 1 Axes>"
      ]
     },
     "metadata": {
      "needs_background": "light"
     },
     "output_type": "display_data"
    }
   ],
   "source": [
    "from sklearn.metrics import roc_auc_score\n",
    "from sklearn.metrics import roc_curve\n",
    "logit_roc_auc = roc_auc_score(y_test, logreg_13.predict(X_test[cols]))\n",
    "fpr, tpr, thresholds = roc_curve(y_test, logreg_13.predict_proba(X_test[cols])[:,1])\n",
    "plt.figure()\n",
    "plt.plot(fpr, tpr, label='Logistic Regression (area = %0.2f)' % logit_roc_auc)\n",
    "plt.plot([0, 1], [0, 1],'r--')\n",
    "plt.xlim([0.0, 1.0])\n",
    "plt.ylim([0.0, 1.05])\n",
    "plt.xlabel('False Positive Rate')\n",
    "plt.ylabel('True Positive Rate')\n",
    "plt.title('Receiver operating characteristic')\n",
    "plt.legend(loc=\"lower right\")\n",
    "#plt.savefig('Log_ROC')\n",
    "#plt.show()"
   ]
  },
  {
   "cell_type": "code",
   "execution_count": null,
   "metadata": {},
   "outputs": [],
   "source": []
  }
 ],
 "metadata": {
  "kernelspec": {
   "display_name": "Python 3",
   "language": "python",
   "name": "python3"
  },
  "language_info": {
   "codemirror_mode": {
    "name": "ipython",
    "version": 3
   },
   "file_extension": ".py",
   "mimetype": "text/x-python",
   "name": "python",
   "nbconvert_exporter": "python",
   "pygments_lexer": "ipython3",
   "version": "3.6.8"
  }
 },
 "nbformat": 4,
 "nbformat_minor": 2
}
